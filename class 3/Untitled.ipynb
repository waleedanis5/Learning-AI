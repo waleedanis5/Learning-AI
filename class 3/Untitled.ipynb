{
 "cells": [
  {
   "cell_type": "markdown",
   "id": "624563a6-39c9-4482-b573-4472fe9f396b",
   "metadata": {},
   "source": [
    "# Text formating/formation/concatination\n"
   ]
  },
  {
   "cell_type": "code",
   "execution_count": 17,
   "id": "1f0860ea-f28e-4aa2-ac96-5ab52377deb1",
   "metadata": {},
   "outputs": [
    {
     "ename": "SyntaxError",
     "evalue": "invalid syntax (2344492361.py, line 1)",
     "output_type": "error",
     "traceback": [
      "\u001b[1;36m  File \u001b[1;32m\"C:\\Users\\Osama\\AppData\\Local\\Temp\\ipykernel_4132\\2344492361.py\"\u001b[1;36m, line \u001b[1;32m1\u001b[0m\n\u001b[1;33m    first name = \"Waleed\"\u001b[0m\n\u001b[1;37m          ^\u001b[0m\n\u001b[1;31mSyntaxError\u001b[0m\u001b[1;31m:\u001b[0m invalid syntax\n"
     ]
    }
   ],
   "source": [
    "\n",
    "first name = \"Waleed\""
   ]
  },
  {
   "cell_type": "code",
   "execution_count": 3,
   "id": "66538b88-5496-4610-89df-7cdceee175ec",
   "metadata": {},
   "outputs": [
    {
     "ename": "SyntaxError",
     "evalue": "invalid syntax (149125550.py, line 1)",
     "output_type": "error",
     "traceback": [
      "\u001b[1;36m  File \u001b[1;32m\"C:\\Users\\Osama\\AppData\\Local\\Temp\\ipykernel_4132\\149125550.py\"\u001b[1;36m, line \u001b[1;32m1\u001b[0m\n\u001b[1;33m    0name = \"Waleed\"\u001b[0m\n\u001b[1;37m     ^\u001b[0m\n\u001b[1;31mSyntaxError\u001b[0m\u001b[1;31m:\u001b[0m invalid syntax\n"
     ]
    }
   ],
   "source": [
    "0name = \"Waleed\""
   ]
  },
  {
   "cell_type": "code",
   "execution_count": 4,
   "id": "33fc4b71-5f34-4d8c-bbc2-cacdd542589a",
   "metadata": {},
   "outputs": [
    {
     "ename": "SyntaxError",
     "evalue": "cannot assign to operator (4168559608.py, line 1)",
     "output_type": "error",
     "traceback": [
      "\u001b[1;36m  File \u001b[1;32m\"C:\\Users\\Osama\\AppData\\Local\\Temp\\ipykernel_4132\\4168559608.py\"\u001b[1;36m, line \u001b[1;32m1\u001b[0m\n\u001b[1;33m    student^name = \"WAleed\"\u001b[0m\n\u001b[1;37m    ^\u001b[0m\n\u001b[1;31mSyntaxError\u001b[0m\u001b[1;31m:\u001b[0m cannot assign to operator\n"
     ]
    }
   ],
   "source": [
    "student^name = \"WAleed\""
   ]
  },
  {
   "cell_type": "code",
   "execution_count": 5,
   "id": "8a7aa2d5-7942-4103-abe3-9dac7b380f4a",
   "metadata": {},
   "outputs": [
    {
     "name": "stdout",
     "output_type": "stream",
     "text": [
      "22\n"
     ]
    }
   ],
   "source": [
    "age = 22 \n",
    "print (age)"
   ]
  },
  {
   "cell_type": "code",
   "execution_count": 7,
   "id": "7fa68363-fa86-44bf-b83f-fefb5a2a31ce",
   "metadata": {},
   "outputs": [
    {
     "ename": "NameError",
     "evalue": "name 'Age' is not defined",
     "output_type": "error",
     "traceback": [
      "\u001b[1;31m---------------------------------------------------------------------------\u001b[0m",
      "\u001b[1;31mNameError\u001b[0m                                 Traceback (most recent call last)",
      "\u001b[1;32m~\\AppData\\Local\\Temp\\ipykernel_4132\\2955847039.py\u001b[0m in \u001b[0;36m<module>\u001b[1;34m\u001b[0m\n\u001b[1;32m----> 1\u001b[1;33m \u001b[0mprint\u001b[0m\u001b[1;33m(\u001b[0m\u001b[0mAge\u001b[0m\u001b[1;33m)\u001b[0m\u001b[1;33m\u001b[0m\u001b[1;33m\u001b[0m\u001b[0m\n\u001b[0m",
      "\u001b[1;31mNameError\u001b[0m: name 'Age' is not defined"
     ]
    }
   ],
   "source": [
    "print(Age)"
   ]
  },
  {
   "cell_type": "markdown",
   "id": "d51928ec-4e5e-4b9e-b080-7951d2877291",
   "metadata": {},
   "source": [
    "# Rules for Python variables:\n",
    " * A variable name must start with a letter or the underscore character\n",
    " * A variable name cannot start with a number\n",
    " * A variable name can only contain alpha-numeric characters and underscores (A-z, 0-9, and _ )\n",
    " * Variable names are case-sensitive (age, Age and AGE are three different variables)\n",
    " "
   ]
  },
  {
   "cell_type": "code",
   "execution_count": 10,
   "id": "4eecfcd6-d3f6-48c1-a040-49965e9a4040",
   "metadata": {},
   "outputs": [
    {
     "name": "stdout",
     "output_type": "stream",
     "text": [
      "Waleed\n"
     ]
    }
   ],
   "source": [
    "student_name = \"Waleed\"\n",
    "print(student_name)"
   ]
  },
  {
   "cell_type": "code",
   "execution_count": 11,
   "id": "2f1f5e99-a4dc-4d55-bea7-0cbc127be22b",
   "metadata": {},
   "outputs": [
    {
     "name": "stdout",
     "output_type": "stream",
     "text": [
      "6\n",
      "6\n",
      "6\n"
     ]
    }
   ],
   "source": [
    "a = len(\"waleed\")# return function\n",
    "print(a)\n",
    "print(a)\n",
    "print(a)"
   ]
  },
  {
   "cell_type": "code",
   "execution_count": 13,
   "id": "bae19ffc-5aa0-4ab1-8010-301dfd8f13bc",
   "metadata": {},
   "outputs": [
    {
     "name": "stdout",
     "output_type": "stream",
     "text": [
      "Waleed\n",
      "None\n",
      "None\n",
      "None\n"
     ]
    }
   ],
   "source": [
    "a = print(\"Waleed\")# return function\n",
    "print(a)\n",
    "print(a)\n",
    "print(a)"
   ]
  },
  {
   "cell_type": "code",
   "execution_count": 15,
   "id": "999d3452-a25f-48af-97b0-45a7f9cd1c94",
   "metadata": {},
   "outputs": [
    {
     "name": "stdout",
     "output_type": "stream",
     "text": [
      "\n",
      "Saylani Mass IT program\n",
      "Batch-4 AI and DS\n",
      "Class days: Tue and Fri\n",
      "\n",
      "None\n",
      "None\n",
      "None\n"
     ]
    }
   ],
   "source": [
    "a = print( \"\"\"\n",
    "Saylani Mass IT program\n",
    "Batch-4 AI and DS\n",
    "Class days: Tue and Fri\n",
    "\"\"\")\n",
    "print(a)\n",
    "print(a)\n",
    "print(a)"
   ]
  },
  {
   "cell_type": "markdown",
   "id": "b0158a47-1f76-4387-aa86-df1c78ee7c64",
   "metadata": {},
   "source": [
    "# Concatination\n",
    " * plus sign (+) \n",
    " * variable_name.format(var1,var2,var3)\n",
    " * f'Student name: {var1} '"
   ]
  },
  {
   "cell_type": "code",
   "execution_count": 19,
   "id": "81a9d4ad-b833-4a4b-a112-f05bab0d4584",
   "metadata": {},
   "outputs": [
    {
     "name": "stdout",
     "output_type": "stream",
     "text": [
      "Institute Name: Saylani Mass IT Training\n",
      "Student Full Name: Waleed Anis\n"
     ]
    }
   ],
   "source": [
    "first_name = \"Waleed\"\n",
    "last_name = \"Anis\"\n",
    "institute_name = \"Saylani Mass IT Training\"\n",
    "\n",
    "Id_card = \"Institute Name: \" + institute_name + \"\\nStudent Full Name: \" + first_name+ \" \" + last_name \n",
    "\n",
    "print(Id_card)"
   ]
  },
  {
   "cell_type": "code",
   "execution_count": 20,
   "id": "2b3a3c9a-963d-4af5-960e-a9b8ee9396af",
   "metadata": {},
   "outputs": [
    {
     "ename": "TypeError",
     "evalue": "can only concatenate str (not \"int\") to str",
     "output_type": "error",
     "traceback": [
      "\u001b[1;31m---------------------------------------------------------------------------\u001b[0m",
      "\u001b[1;31mTypeError\u001b[0m                                 Traceback (most recent call last)",
      "\u001b[1;32m~\\AppData\\Local\\Temp\\ipykernel_4132\\2818505881.py\u001b[0m in \u001b[0;36m<module>\u001b[1;34m\u001b[0m\n\u001b[0;32m      4\u001b[0m \u001b[0mage\u001b[0m \u001b[1;33m=\u001b[0m \u001b[1;36m22\u001b[0m\u001b[1;33m\u001b[0m\u001b[1;33m\u001b[0m\u001b[0m\n\u001b[0;32m      5\u001b[0m \u001b[1;33m\u001b[0m\u001b[0m\n\u001b[1;32m----> 6\u001b[1;33m \u001b[0mcard\u001b[0m \u001b[1;33m=\u001b[0m \u001b[1;34m\"Institute Name: \"\u001b[0m \u001b[1;33m+\u001b[0m \u001b[0minstitute_name\u001b[0m \u001b[1;33m+\u001b[0m \u001b[1;34m\"\\nStudent Full Name: \"\u001b[0m \u001b[1;33m+\u001b[0m \u001b[0mfirst_name\u001b[0m\u001b[1;33m+\u001b[0m \u001b[1;34m\" \"\u001b[0m \u001b[1;33m+\u001b[0m \u001b[0mlast_name\u001b[0m \u001b[1;33m+\u001b[0m \u001b[0mage\u001b[0m\u001b[1;33m\u001b[0m\u001b[1;33m\u001b[0m\u001b[0m\n\u001b[0m\u001b[0;32m      7\u001b[0m \u001b[1;33m\u001b[0m\u001b[0m\n\u001b[0;32m      8\u001b[0m \u001b[0mprint\u001b[0m\u001b[1;33m(\u001b[0m\u001b[0mcard\u001b[0m\u001b[1;33m)\u001b[0m\u001b[1;33m\u001b[0m\u001b[1;33m\u001b[0m\u001b[0m\n",
      "\u001b[1;31mTypeError\u001b[0m: can only concatenate str (not \"int\") to str"
     ]
    }
   ],
   "source": [
    "first_name = \"Muhammad\"\n",
    "last_name = \"Qasim\"\n",
    "institute_name = \"Saylani Mass IT Training\"\n",
    "age = 22\n",
    "\n",
    "card = \"Institute Name: \" + institute_name + \"\\nStudent Full Name: \" + first_name+ \" \" + last_name + age\n",
    "\n",
    "print(card)"
   ]
  },
  {
   "cell_type": "code",
   "execution_count": 1,
   "id": "6ac5ca2f-6186-4dec-a5de-b8db388a74f8",
   "metadata": {},
   "outputs": [
    {
     "name": "stdout",
     "output_type": "stream",
     "text": [
      "30 <class 'int'>\n",
      "30 <class 'str'>\n"
     ]
    }
   ],
   "source": [
    "age = 30\n",
    "print(age ,type(age))\n",
    "\n",
    "# here first need to convert the int into string because cant call the integer here \n",
    "# type casting\n",
    "age = str(age)\n",
    "print(age ,type(age))"
   ]
  },
  {
   "cell_type": "code",
   "execution_count": 2,
   "id": "19b6b762-ab9f-467f-b5cb-a817d63f4452",
   "metadata": {},
   "outputs": [
    {
     "name": "stdout",
     "output_type": "stream",
     "text": [
      "Institute Name: Saylani Mass IT Training\n",
      "Student Full Name: Waleed Khan\n",
      "Age: 22\n"
     ]
    }
   ],
   "source": [
    "first_name = \"Waleed\"\n",
    "last_name = \"Khan\"\n",
    "institute_name = \"Saylani Mass IT Training\"\n",
    "Age = str(22) # here first need to convert the int into string because cant call the integer here \n",
    "Id_card = \"Institute Name: \" + institute_name + \"\\nStudent Full Name: \" + first_name+ \" \" + last_name + \"\\nAge: \" + Age \n",
    "\n",
    "print(Id_card)"
   ]
  },
  {
   "cell_type": "code",
   "execution_count": 3,
   "id": "c3271bbd-4d18-44a0-8c71-326dd4f1fcc2",
   "metadata": {},
   "outputs": [
    {
     "name": "stdout",
     "output_type": "stream",
     "text": [
      "Institute Name: Saylani Mass IT Training\n",
      "Student Full Name: Waleed Anis\n",
      "Age: 22\n",
      "\n",
      "\n"
     ]
    }
   ],
   "source": [
    "first_name = \"Waleed\"\n",
    "last_name = \"Anis\"\n",
    "institute_name = \"Saylani Mass IT Training\"\n",
    "age = 22\n",
    "\n",
    "\n",
    "card = \"\"\"Institute Name: Saylani Mass IT Training\n",
    "Student Full Name: Waleed Anis\n",
    "Age: 22\n",
    "\n",
    "\"\"\"\n",
    "print(card)"
   ]
  },
  {
   "cell_type": "markdown",
   "id": "b9fe11eb-4151-4914-a1da-aed5a83201b8",
   "metadata": {},
   "source": [
    "#  with variable_name.format(var1,var2,var3)"
   ]
  },
  {
   "cell_type": "code",
   "execution_count": null,
   "id": "c3d9f49e-702c-41a1-973d-2efa3d9aaf1b",
   "metadata": {},
   "outputs": [],
   "source": [
    "institute_name = \"Saylani Mass IT Training\"\n",
    "first_name = \"Waleed\"\n",
    "last_name = \"Anis\"\n",
    "age = 22\n",
    "\n",
    "\n",
    "Id_card = \"\"\"Institute Name: {}\n",
    "Student Full Name: {} {}\n",
    "Age: {}\n",
    "\n",
    "\"\"\".format(institute_name,first_name,last_name,age)\n",
    "\n",
    "print(Id_card)"
   ]
  },
  {
   "cell_type": "code",
   "execution_count": 12,
   "id": "55a485f3-a96c-470b-b49f-621fba701fa9",
   "metadata": {},
   "outputs": [
    {
     "name": "stdout",
     "output_type": "stream",
     "text": [
      "Institute Name: Saylani Mass IT Training\n",
      "Student Full Name: Waleed Anis\n",
      "Age: 22\n",
      "\n",
      "\n"
     ]
    }
   ],
   "source": [
    "institute_name = \"Saylani Mass IT Training\"\n",
    "first_name = \"Waleed\"\n",
    "last_name = \"Anis\"\n",
    "age = 22\n",
    "\n",
    "\n",
    "Id_card = \"\"\"Institute Name: {0}\n",
    "Student Full Name: {1} {2}\n",
    "Age: {3}\n",
    "\n",
    "\"\"\".format(institute_name,first_name,last_name,age)\n",
    "\n",
    "print(Id_card)"
   ]
  },
  {
   "cell_type": "markdown",
   "id": "092d0fb3-8b63-436f-9eac-2bd8573e5d66",
   "metadata": {},
   "source": [
    "# with F \n"
   ]
  },
  {
   "cell_type": "code",
   "execution_count": 13,
   "id": "0295bd48-44c2-4019-aba5-6730938acd0f",
   "metadata": {},
   "outputs": [
    {
     "name": "stdout",
     "output_type": "stream",
     "text": [
      "Institute Name: Saylani Mass IT Training\n",
      "Student Full Name: Waleed Anis\n",
      "Age: 22\n",
      "\n",
      "\n"
     ]
    }
   ],
   "source": [
    "institute_name = \"Saylani Mass IT Training\"\n",
    "first_name = \"Waleed\"\n",
    "last_name = \"Anis\"\n",
    "age = 22\n",
    "\n",
    "\n",
    "Id_card = f\"\"\"Institute Name: {institute_name}\n",
    "Student Full Name: {first_name} {last_name}\n",
    "Age: {age}\n",
    "\n",
    "\"\"\"\n",
    "\n",
    "print(Id_card)"
   ]
  },
  {
   "cell_type": "code",
   "execution_count": 20,
   "id": "7929e846-76a2-4d64-971a-f4eecd74480a",
   "metadata": {},
   "outputs": [
    {
     "name": "stdout",
     "output_type": "stream",
     "text": [
      "Institute Name: Saylani Mass IT Training\n",
      "Student Full Name: Waleed Anis\n",
      "Age: 22\n",
      "\n",
      "\n"
     ]
    }
   ],
   "source": [
    "institute_name = \"Saylani Mass IT Training\"\n",
    "first_name = \"Waleed\"\n",
    "last_name = \"Anis\"\n",
    "age = 22\n",
    "\n",
    "\n",
    "Id_card = f\"\"\"Institute Name: %s\n",
    "Student Full Name: %s %s\n",
    "Age: %d\n",
    "\n",
    "\"\"\" %(institute_name,first_name,last_name,age)\n",
    "\n",
    "print(Id_card)"
   ]
  },
  {
   "cell_type": "code",
   "execution_count": 21,
   "id": "a095ac99-dc4b-4dbd-8dbf-47e01f03e2f0",
   "metadata": {},
   "outputs": [
    {
     "name": "stdout",
     "output_type": "stream",
     "text": [
      "Institute Name: Saylani Mass IT Training\n",
      "Student Full Name: Waleed Anis\n",
      "Age: 22\n",
      "\n",
      "\n"
     ]
    }
   ],
   "source": [
    "print (card)"
   ]
  },
  {
   "cell_type": "code",
   "execution_count": 22,
   "id": "b97615a2-053b-4b96-a728-2c074eafc1b5",
   "metadata": {},
   "outputs": [
    {
     "name": "stdout",
     "output_type": "stream",
     "text": [
      "0 capitalize\n",
      "1 casefold\n",
      "2 center\n",
      "3 count\n",
      "4 encode\n",
      "5 endswith\n",
      "6 expandtabs\n",
      "7 find\n",
      "8 format\n",
      "9 index\n",
      "10 isalnum\n",
      "11 isalpha\n",
      "12 isascii\n",
      "13 isdecimal\n",
      "14 isdigit\n",
      "15 isidentifier\n",
      "16 islower\n",
      "17 isnumeric\n",
      "18 isprintable\n",
      "19 isspace\n",
      "20 istitle\n",
      "21 isupper\n",
      "22 join\n",
      "23 ljust\n",
      "24 lower\n",
      "25 lstrip\n",
      "26 maketrans\n",
      "27 partition\n",
      "28 removeprefix\n",
      "29 removesuffix\n",
      "30 replace\n",
      "31 rfind\n",
      "32 rindex\n",
      "33 rjust\n",
      "34 rpartition\n",
      "35 rsplit\n",
      "36 rstrip\n",
      "37 split\n",
      "38 splitlines\n",
      "39 startswith\n",
      "40 strip\n",
      "41 swapcase\n",
      "42 title\n",
      "43 translate\n",
      "44 upper\n",
      "45 zfill\n"
     ]
    }
   ],
   "source": [
    "for  idx, i in enumerate([i for i in dir(card) if \"_\" not in i]):\n",
    "    print(idx,i)"
   ]
  },
  {
   "cell_type": "code",
   "execution_count": 23,
   "id": "80cf9534-e280-4d00-a5c9-cdc1e65eadbb",
   "metadata": {},
   "outputs": [
    {
     "name": "stdout",
     "output_type": "stream",
     "text": [
      "Institute name: saylani mass it training\n",
      "student full name: waleed anis\n",
      "age: 22\n",
      "\n",
      "\n"
     ]
    }
   ],
   "source": [
    "print(card.capitalize())"
   ]
  },
  {
   "cell_type": "code",
   "execution_count": 24,
   "id": "cab89b1f-e642-402a-ba33-18e508a9e52a",
   "metadata": {},
   "outputs": [
    {
     "name": "stdout",
     "output_type": "stream",
     "text": [
      "institute name: saylani mass it training\n",
      "student full name: waleed anis\n",
      "age: 22\n",
      "\n",
      "\n"
     ]
    }
   ],
   "source": [
    "print(card.casefold())# inline"
   ]
  },
  {
   "cell_type": "code",
   "execution_count": 25,
   "id": "a2554a9e-ef32-4163-a9a9-7c5a7078be4c",
   "metadata": {},
   "outputs": [
    {
     "name": "stdout",
     "output_type": "stream",
     "text": [
      "Institute Name: Saylani Mass IT Training\n",
      "Student Full Name: Waleed Anis\n",
      "Age: 22\n",
      "\n",
      "\n"
     ]
    },
    {
     "data": {
      "text/plain": [
       "1"
      ]
     },
     "execution_count": 25,
     "metadata": {},
     "output_type": "execute_result"
    }
   ],
   "source": [
    "print(card)\n",
    "card.count('Waleed')"
   ]
  },
  {
   "cell_type": "code",
   "execution_count": 26,
   "id": "5e7915e8-a61a-49a7-9d82-4e4da9985f6c",
   "metadata": {},
   "outputs": [
    {
     "name": "stdout",
     "output_type": "stream",
     "text": [
      "Institute Name: Saylani Mass IT Training\n",
      "Student Full Name: Waleed Anis\n",
      "Age: 22\n",
      "\n",
      "\n"
     ]
    },
    {
     "data": {
      "text/plain": [
       "0"
      ]
     },
     "execution_count": 26,
     "metadata": {},
     "output_type": "execute_result"
    }
   ],
   "source": [
    "print(card)\n",
    "card.count('waleed')"
   ]
  },
  {
   "cell_type": "code",
   "execution_count": 27,
   "id": "c312950c-29c8-4634-95ad-b243f10af807",
   "metadata": {},
   "outputs": [
    {
     "name": "stdout",
     "output_type": "stream",
     "text": [
      "b'My name is St\\xc3\\xa5le'\n"
     ]
    }
   ],
   "source": [
    "txt = \"My name is Ståle\"\n",
    "\n",
    "x = txt.encode()\n",
    "\n",
    "print(x)"
   ]
  },
  {
   "cell_type": "code",
   "execution_count": 28,
   "id": "1c5c8442-41b7-4f3d-a17f-53b1376d3403",
   "metadata": {},
   "outputs": [
    {
     "name": "stdout",
     "output_type": "stream",
     "text": [
      "b'My name is St\\\\xe5le'\n",
      "b'My name is Stle'\n",
      "b'My name is St\\\\N{LATIN SMALL LETTER A WITH RING ABOVE}le'\n",
      "b'My name is St?le'\n",
      "b'My name is St&#229;le'\n"
     ]
    }
   ],
   "source": [
    "txt = \"My name is Ståle\"\n",
    "\n",
    "print(txt.encode(encoding=\"ascii\",errors=\"backslashreplace\"))\n",
    "print(txt.encode(encoding=\"ascii\",errors=\"ignore\"))\n",
    "print(txt.encode(encoding=\"ascii\",errors=\"namereplace\"))\n",
    "print(txt.encode(encoding=\"ascii\",errors=\"replace\"))\n",
    "print(txt.encode(encoding=\"ascii\",errors=\"xmlcharrefreplace\"))"
   ]
  },
  {
   "cell_type": "code",
   "execution_count": null,
   "id": "51381858-a87a-4b81-b150-0f8b4b718426",
   "metadata": {},
   "outputs": [],
   "source": []
  }
 ],
 "metadata": {
  "kernelspec": {
   "display_name": "Python 3 (ipykernel)",
   "language": "python",
   "name": "python3"
  },
  "language_info": {
   "codemirror_mode": {
    "name": "ipython",
    "version": 3
   },
   "file_extension": ".py",
   "mimetype": "text/x-python",
   "name": "python",
   "nbconvert_exporter": "python",
   "pygments_lexer": "ipython3",
   "version": "3.9.13"
  }
 },
 "nbformat": 4,
 "nbformat_minor": 5
}
