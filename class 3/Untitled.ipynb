{
 "cells": [
  {
   "cell_type": "markdown",
   "id": "624563a6-39c9-4482-b573-4472fe9f396b",
   "metadata": {},
   "source": [
    "# Text formating/formation/concatination\n"
   ]
  },
  {
   "cell_type": "code",
   "execution_count": 2,
   "id": "4ab7d83a-4779-4082-aaf6-5aebbbe9b958",
   "metadata": {},
   "outputs": [
    {
     "ename": "SyntaxError",
     "evalue": "invalid syntax (806305734.py, line 1)",
     "output_type": "error",
     "traceback": [
      "\u001b[1;36m  File \u001b[1;32m\"C:\\Users\\Osama\\AppData\\Local\\Temp\\ipykernel_4132\\806305734.py\"\u001b[1;36m, line \u001b[1;32m1\u001b[0m\n\u001b[1;33m    first name = \"Waleed\"\u001b[0m\n\u001b[1;37m          ^\u001b[0m\n\u001b[1;31mSyntaxError\u001b[0m\u001b[1;31m:\u001b[0m invalid syntax\n"
     ]
    }
   ],
   "source": [
    "first name = \"Waleed\""
   ]
  },
  {
   "cell_type": "code",
   "execution_count": 3,
   "id": "66538b88-5496-4610-89df-7cdceee175ec",
   "metadata": {},
   "outputs": [
    {
     "ename": "SyntaxError",
     "evalue": "invalid syntax (149125550.py, line 1)",
     "output_type": "error",
     "traceback": [
      "\u001b[1;36m  File \u001b[1;32m\"C:\\Users\\Osama\\AppData\\Local\\Temp\\ipykernel_4132\\149125550.py\"\u001b[1;36m, line \u001b[1;32m1\u001b[0m\n\u001b[1;33m    0name = \"Waleed\"\u001b[0m\n\u001b[1;37m     ^\u001b[0m\n\u001b[1;31mSyntaxError\u001b[0m\u001b[1;31m:\u001b[0m invalid syntax\n"
     ]
    }
   ],
   "source": [
    "0name = \"Waleed\""
   ]
  },
  {
   "cell_type": "code",
   "execution_count": 4,
   "id": "33fc4b71-5f34-4d8c-bbc2-cacdd542589a",
   "metadata": {},
   "outputs": [
    {
     "ename": "SyntaxError",
     "evalue": "cannot assign to operator (4168559608.py, line 1)",
     "output_type": "error",
     "traceback": [
      "\u001b[1;36m  File \u001b[1;32m\"C:\\Users\\Osama\\AppData\\Local\\Temp\\ipykernel_4132\\4168559608.py\"\u001b[1;36m, line \u001b[1;32m1\u001b[0m\n\u001b[1;33m    student^name = \"WAleed\"\u001b[0m\n\u001b[1;37m    ^\u001b[0m\n\u001b[1;31mSyntaxError\u001b[0m\u001b[1;31m:\u001b[0m cannot assign to operator\n"
     ]
    }
   ],
   "source": [
    "student^name = \"WAleed\""
   ]
  },
  {
   "cell_type": "code",
   "execution_count": 5,
   "id": "8a7aa2d5-7942-4103-abe3-9dac7b380f4a",
   "metadata": {},
   "outputs": [
    {
     "name": "stdout",
     "output_type": "stream",
     "text": [
      "22\n"
     ]
    }
   ],
   "source": [
    "age = 22 \n",
    "print (age)"
   ]
  },
  {
   "cell_type": "code",
   "execution_count": 7,
   "id": "7fa68363-fa86-44bf-b83f-fefb5a2a31ce",
   "metadata": {},
   "outputs": [
    {
     "ename": "NameError",
     "evalue": "name 'Age' is not defined",
     "output_type": "error",
     "traceback": [
      "\u001b[1;31m---------------------------------------------------------------------------\u001b[0m",
      "\u001b[1;31mNameError\u001b[0m                                 Traceback (most recent call last)",
      "\u001b[1;32m~\\AppData\\Local\\Temp\\ipykernel_4132\\2955847039.py\u001b[0m in \u001b[0;36m<module>\u001b[1;34m\u001b[0m\n\u001b[1;32m----> 1\u001b[1;33m \u001b[0mprint\u001b[0m\u001b[1;33m(\u001b[0m\u001b[0mAge\u001b[0m\u001b[1;33m)\u001b[0m\u001b[1;33m\u001b[0m\u001b[1;33m\u001b[0m\u001b[0m\n\u001b[0m",
      "\u001b[1;31mNameError\u001b[0m: name 'Age' is not defined"
     ]
    }
   ],
   "source": [
    "print(Age)"
   ]
  },
  {
   "cell_type": "markdown",
   "id": "d51928ec-4e5e-4b9e-b080-7951d2877291",
   "metadata": {},
   "source": [
    "# Rules for Python variables:\n",
    " * A variable name must start with a letter or the underscore character\n",
    " * A variable name cannot start with a number\n",
    " * A variable name can only contain alpha-numeric characters and underscores (A-z, 0-9, and _ )\n",
    " * Variable names are case-sensitive (age, Age and AGE are three different variables)\n",
    " "
   ]
  },
  {
   "cell_type": "code",
   "execution_count": 10,
   "id": "4eecfcd6-d3f6-48c1-a040-49965e9a4040",
   "metadata": {},
   "outputs": [
    {
     "name": "stdout",
     "output_type": "stream",
     "text": [
      "Waleed\n"
     ]
    }
   ],
   "source": [
    "student_name = \"Waleed\"\n",
    "print(student_name)"
   ]
  },
  {
   "cell_type": "code",
   "execution_count": 11,
   "id": "2f1f5e99-a4dc-4d55-bea7-0cbc127be22b",
   "metadata": {},
   "outputs": [
    {
     "name": "stdout",
     "output_type": "stream",
     "text": [
      "6\n",
      "6\n",
      "6\n"
     ]
    }
   ],
   "source": [
    "a = len(\"waleed\")# return function\n",
    "print(a)\n",
    "print(a)\n",
    "print(a)"
   ]
  },
  {
   "cell_type": "code",
   "execution_count": 13,
   "id": "bae19ffc-5aa0-4ab1-8010-301dfd8f13bc",
   "metadata": {},
   "outputs": [
    {
     "name": "stdout",
     "output_type": "stream",
     "text": [
      "Waleed\n",
      "None\n",
      "None\n",
      "None\n"
     ]
    }
   ],
   "source": [
    "a = print(\"Waleed\")# return function\n",
    "print(a)\n",
    "print(a)\n",
    "print(a)"
   ]
  },
  {
   "cell_type": "code",
   "execution_count": 15,
   "id": "999d3452-a25f-48af-97b0-45a7f9cd1c94",
   "metadata": {},
   "outputs": [
    {
     "name": "stdout",
     "output_type": "stream",
     "text": [
      "\n",
      "Saylani Mass IT program\n",
      "Batch-4 AI and DS\n",
      "Class days: Tue and Fri\n",
      "\n",
      "None\n",
      "None\n",
      "None\n"
     ]
    }
   ],
   "source": [
    "a = print( \"\"\"\n",
    "Saylani Mass IT program\n",
    "Batch-4 AI and DS\n",
    "Class days: Tue and Fri\n",
    "\"\"\")\n",
    "print(a)\n",
    "print(a)\n",
    "print(a)"
   ]
  },
  {
   "cell_type": "markdown",
   "id": "b0158a47-1f76-4387-aa86-df1c78ee7c64",
   "metadata": {},
   "source": [
    "# Concatination\n",
    " * ++\n",
    " * variable_name.format(var1,var2,var3)\n",
    " * f'Student name: {var1} '"
   ]
  },
  {
   "cell_type": "code",
   "execution_count": null,
   "id": "81a9d4ad-b833-4a4b-a112-f05bab0d4584",
   "metadata": {},
   "outputs": [],
   "source": []
  }
 ],
 "metadata": {
  "kernelspec": {
   "display_name": "Python 3 (ipykernel)",
   "language": "python",
   "name": "python3"
  },
  "language_info": {
   "codemirror_mode": {
    "name": "ipython",
    "version": 3
   },
   "file_extension": ".py",
   "mimetype": "text/x-python",
   "name": "python",
   "nbconvert_exporter": "python",
   "pygments_lexer": "ipython3",
   "version": "3.9.13"
  }
 },
 "nbformat": 4,
 "nbformat_minor": 5
}
