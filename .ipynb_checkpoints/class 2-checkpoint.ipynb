{
 "cells": [
  {
   "cell_type": "markdown",
   "id": "69cb9698-9343-499c-bb0e-c95d4d2147ac",
   "metadata": {},
   "source": [
    "# class 2\n",
    "\n",
    "* Help\n",
    "   * function_name()\n",
    "   * help function\n",
    "   * function_name(press shift+tab)\n",
    "   * function?\n",
    "   * function??\n",
    "   * ?function\n",
    "   * ??function\n",
    "   \n",
    "* print\n",
    "   * value \n",
    "   * sep\n",
    "   * end\n",
    "   \n",
    "* variable\n",
    "   * string\n",
    "     * start with \" and end with \"\n",
    "     \"Muhammad Qasim\"\n",
    "   * you can also use these symbols for define string\n",
    "     * ' single line string\n",
    "     * \" single line string\n",
    "     * \"\"\" multilines string\n",
    "     * ''' multilines string\n",
    "\n",
    "* number\n",
    "   * int\n",
    "      * 1\n",
    "   * float\n",
    "      * 1.5\n"
   ]
  },
  {
   "cell_type": "code",
   "execution_count": 1,
   "id": "a93d6c05-ae57-4e77-9eea-cc7208a126ff",
   "metadata": {},
   "outputs": [
    {
     "name": "stdout",
     "output_type": "stream",
     "text": [
      "Help on built-in function print in module builtins:\n",
      "\n",
      "print(...)\n",
      "    print(value, ..., sep=' ', end='\\n', file=sys.stdout, flush=False)\n",
      "    \n",
      "    Prints the values to a stream, or to sys.stdout by default.\n",
      "    Optional keyword arguments:\n",
      "    file:  a file-like object (stream); defaults to the current sys.stdout.\n",
      "    sep:   string inserted between values, default a space.\n",
      "    end:   string appended after the last value, default a newline.\n",
      "    flush: whether to forcibly flush the stream.\n",
      "\n"
     ]
    }
   ],
   "source": [
    "help (print)"
   ]
  },
  {
   "cell_type": "code",
   "execution_count": 2,
   "id": "ae2eea14-fc54-432a-a159-67c39b041478",
   "metadata": {},
   "outputs": [
    {
     "name": "stdout",
     "output_type": "stream",
     "text": [
      "\n"
     ]
    }
   ],
   "source": [
    "# press shift+tab in round brekets\n",
    "print()"
   ]
  },
  {
   "cell_type": "code",
   "execution_count": 3,
   "id": "65afe927-9ba9-4391-88b1-ace56bf5f7e3",
   "metadata": {},
   "outputs": [
    {
     "data": {
      "text/plain": [
       "\u001b[1;31mDocstring:\u001b[0m\n",
       "print(value, ..., sep=' ', end='\\n', file=sys.stdout, flush=False)\n",
       "\n",
       "Prints the values to a stream, or to sys.stdout by default.\n",
       "Optional keyword arguments:\n",
       "file:  a file-like object (stream); defaults to the current sys.stdout.\n",
       "sep:   string inserted between values, default a space.\n",
       "end:   string appended after the last value, default a newline.\n",
       "flush: whether to forcibly flush the stream.\n",
       "\u001b[1;31mType:\u001b[0m      builtin_function_or_method\n"
      ]
     },
     "metadata": {},
     "output_type": "display_data"
    }
   ],
   "source": [
    "print?"
   ]
  },
  {
   "cell_type": "code",
   "execution_count": null,
   "id": "e6e8ac57-be54-4b7f-a367-766e400d7785",
   "metadata": {},
   "outputs": [],
   "source": []
  }
 ],
 "metadata": {
  "kernelspec": {
   "display_name": "Python 3 (ipykernel)",
   "language": "python",
   "name": "python3"
  },
  "language_info": {
   "codemirror_mode": {
    "name": "ipython",
    "version": 3
   },
   "file_extension": ".py",
   "mimetype": "text/x-python",
   "name": "python",
   "nbconvert_exporter": "python",
   "pygments_lexer": "ipython3",
   "version": "3.9.13"
  }
 },
 "nbformat": 4,
 "nbformat_minor": 5
}
