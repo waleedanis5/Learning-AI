{
 "cells": [
  {
   "cell_type": "markdown",
   "id": "69cb9698-9343-499c-bb0e-c95d4d2147ac",
   "metadata": {},
   "source": [
    "# class 2\n",
    "\n",
    "* Help\n",
    "   * function_name()\n",
    "   * help function\n",
    "   * function_name(press shift+tab)\n",
    "   * function?\n",
    "   * function??\n",
    "   * ?function\n",
    "   * ??function\n",
    "   \n",
    "* print\n",
    "   * value \n",
    "   * sep\n",
    "   * end\n",
    "   \n",
    "* variable\n",
    "   * string\n",
    "     * start with \" and end with \"\n",
    "     \"Muhammad Qasim\"\n",
    "   * you can also use these symbols for define string\n",
    "     * ' single line string\n",
    "     * \" single line string\n",
    "     * \"\"\" multilines string\n",
    "     * ''' multilines string\n",
    "\n",
    "* number\n",
    "   * int\n",
    "      * 1\n",
    "   * float\n",
    "      * 1.5\n"
   ]
  },
  {
   "cell_type": "code",
   "execution_count": 1,
   "id": "a93d6c05-ae57-4e77-9eea-cc7208a126ff",
   "metadata": {},
   "outputs": [
    {
     "name": "stdout",
     "output_type": "stream",
     "text": [
      "Help on built-in function print in module builtins:\n",
      "\n",
      "print(...)\n",
      "    print(value, ..., sep=' ', end='\\n', file=sys.stdout, flush=False)\n",
      "    \n",
      "    Prints the values to a stream, or to sys.stdout by default.\n",
      "    Optional keyword arguments:\n",
      "    file:  a file-like object (stream); defaults to the current sys.stdout.\n",
      "    sep:   string inserted between values, default a space.\n",
      "    end:   string appended after the last value, default a newline.\n",
      "    flush: whether to forcibly flush the stream.\n",
      "\n"
     ]
    }
   ],
   "source": [
    "help (print)"
   ]
  },
  {
   "cell_type": "code",
   "execution_count": 2,
   "id": "ae2eea14-fc54-432a-a159-67c39b041478",
   "metadata": {},
   "outputs": [
    {
     "name": "stdout",
     "output_type": "stream",
     "text": [
      "\n"
     ]
    }
   ],
   "source": [
    "# press shift+tab in round brekets\n",
    "print()"
   ]
  },
  {
   "cell_type": "code",
   "execution_count": 3,
   "id": "65afe927-9ba9-4391-88b1-ace56bf5f7e3",
   "metadata": {},
   "outputs": [
    {
     "data": {
      "text/plain": [
       "\u001b[1;31mDocstring:\u001b[0m\n",
       "print(value, ..., sep=' ', end='\\n', file=sys.stdout, flush=False)\n",
       "\n",
       "Prints the values to a stream, or to sys.stdout by default.\n",
       "Optional keyword arguments:\n",
       "file:  a file-like object (stream); defaults to the current sys.stdout.\n",
       "sep:   string inserted between values, default a space.\n",
       "end:   string appended after the last value, default a newline.\n",
       "flush: whether to forcibly flush the stream.\n",
       "\u001b[1;31mType:\u001b[0m      builtin_function_or_method\n"
      ]
     },
     "metadata": {},
     "output_type": "display_data"
    }
   ],
   "source": [
    "print?"
   ]
  },
  {
   "cell_type": "code",
   "execution_count": 4,
   "id": "e6e8ac57-be54-4b7f-a367-766e400d7785",
   "metadata": {},
   "outputs": [
    {
     "data": {
      "text/plain": [
       "\u001b[1;31mDocstring:\u001b[0m\n",
       "print(value, ..., sep=' ', end='\\n', file=sys.stdout, flush=False)\n",
       "\n",
       "Prints the values to a stream, or to sys.stdout by default.\n",
       "Optional keyword arguments:\n",
       "file:  a file-like object (stream); defaults to the current sys.stdout.\n",
       "sep:   string inserted between values, default a space.\n",
       "end:   string appended after the last value, default a newline.\n",
       "flush: whether to forcibly flush the stream.\n",
       "\u001b[1;31mType:\u001b[0m      builtin_function_or_method\n"
      ]
     },
     "metadata": {},
     "output_type": "display_data"
    }
   ],
   "source": [
    "?print"
   ]
  },
  {
   "cell_type": "code",
   "execution_count": 5,
   "id": "313e3ecb-1e9a-4852-9412-df4904c5dd87",
   "metadata": {},
   "outputs": [
    {
     "data": {
      "text/plain": [
       "\u001b[1;31mDocstring:\u001b[0m\n",
       "print(value, ..., sep=' ', end='\\n', file=sys.stdout, flush=False)\n",
       "\n",
       "Prints the values to a stream, or to sys.stdout by default.\n",
       "Optional keyword arguments:\n",
       "file:  a file-like object (stream); defaults to the current sys.stdout.\n",
       "sep:   string inserted between values, default a space.\n",
       "end:   string appended after the last value, default a newline.\n",
       "flush: whether to forcibly flush the stream.\n",
       "\u001b[1;31mType:\u001b[0m      builtin_function_or_method\n"
      ]
     },
     "metadata": {},
     "output_type": "display_data"
    }
   ],
   "source": [
    "??print"
   ]
  },
  {
   "cell_type": "code",
   "execution_count": 6,
   "id": "ed3fbdbd-3ec2-4921-b632-bf61d466f0d2",
   "metadata": {},
   "outputs": [
    {
     "data": {
      "text/plain": [
       "\u001b[1;31mDocstring:\u001b[0m\n",
       "print(value, ..., sep=' ', end='\\n', file=sys.stdout, flush=False)\n",
       "\n",
       "Prints the values to a stream, or to sys.stdout by default.\n",
       "Optional keyword arguments:\n",
       "file:  a file-like object (stream); defaults to the current sys.stdout.\n",
       "sep:   string inserted between values, default a space.\n",
       "end:   string appended after the last value, default a newline.\n",
       "flush: whether to forcibly flush the stream.\n",
       "\u001b[1;31mType:\u001b[0m      builtin_function_or_method\n"
      ]
     },
     "metadata": {},
     "output_type": "display_data"
    }
   ],
   "source": [
    "print??"
   ]
  },
  {
   "cell_type": "markdown",
   "id": "a9514236-7dad-4a29-94c0-238e05797010",
   "metadata": {},
   "source": [
    "# pass value in print fuction"
   ]
  },
  {
   "cell_type": "code",
   "execution_count": 8,
   "id": "ad995e90-ebff-4af7-94ef-3d1d081a9f7c",
   "metadata": {},
   "outputs": [
    {
     "name": "stdout",
     "output_type": "stream",
     "text": [
      "A B C D\n"
     ]
    }
   ],
   "source": [
    "print (\"A\", \"B\", \"C\", \"D\")"
   ]
  },
  {
   "cell_type": "code",
   "execution_count": 12,
   "id": "5e19e26b-b6a6-4717-9005-1888d33a58e7",
   "metadata": {},
   "outputs": [
    {
     "name": "stdout",
     "output_type": "stream",
     "text": [
      "ABCD\n"
     ]
    }
   ],
   "source": [
    "print (\"A\", \"B\", \"C\", \"D\" , sep ='')"
   ]
  },
  {
   "cell_type": "code",
   "execution_count": 13,
   "id": "bf4e1a21-5a03-47b6-a622-13001136300b",
   "metadata": {},
   "outputs": [
    {
     "name": "stdout",
     "output_type": "stream",
     "text": [
      "A*B*C*D\n"
     ]
    }
   ],
   "source": [
    "print (\"A\", \"B\", \"C\", \"D\" , sep ='*')"
   ]
  },
  {
   "cell_type": "code",
   "execution_count": 14,
   "id": "7aa539e3-60ea-4cdd-a671-10da0947c254",
   "metadata": {},
   "outputs": [
    {
     "name": "stdout",
     "output_type": "stream",
     "text": [
      "A***B***C***D\n"
     ]
    }
   ],
   "source": [
    "print (\"A\", \"B\", \"C\", \"D\" , sep ='***')"
   ]
  },
  {
   "cell_type": "code",
   "execution_count": 15,
   "id": "1b7b31f6-1de6-4523-9f71-847037c5e437",
   "metadata": {},
   "outputs": [
    {
     "name": "stdout",
     "output_type": "stream",
     "text": [
      "A* B* C* D\n"
     ]
    }
   ],
   "source": [
    "print (\"A\", \"B\", \"C\", \"D\" , sep ='* ')"
   ]
  },
  {
   "cell_type": "code",
   "execution_count": 16,
   "id": "74aadb53-e73f-43b9-9e36-a25366ddd107",
   "metadata": {},
   "outputs": [
    {
     "name": "stdout",
     "output_type": "stream",
     "text": [
      "A B C D 2 4.5\n"
     ]
    }
   ],
   "source": [
    "print (\"A\", \"B\", \"C\", \"D\" , 2 , 4.5 )"
   ]
  },
  {
   "cell_type": "code",
   "execution_count": 18,
   "id": "5473a6b1-fd0e-4253-ae54-2d94f810a91b",
   "metadata": {
    "tags": []
   },
   "outputs": [
    {
     "name": "stdout",
     "output_type": "stream",
     "text": [
      "Line1 A\n",
      "Line2 B\n",
      "Line3 C\n"
     ]
    }
   ],
   "source": [
    "print(\"Line1\",\"A\")\n",
    "print(\"Line2\",\"B\")\n",
    "print(\"Line3\",\"C\")"
   ]
  },
  {
   "cell_type": "code",
   "execution_count": 19,
   "id": "707b27c6-d0de-4cfe-9d1f-4a170d6e9520",
   "metadata": {},
   "outputs": [
    {
     "name": "stdout",
     "output_type": "stream",
     "text": [
      "Line1\n",
      "Line2\n",
      "Line3\n"
     ]
    }
   ],
   "source": [
    "print(\"Line1\", end = '\\n')\n",
    "print(\"Line2\", end = '\\n')\n",
    "print(\"Line3\", end = '\\n')"
   ]
  },
  {
   "cell_type": "code",
   "execution_count": 20,
   "id": "98b73b8f-f228-442e-a64d-4fce5ed81f72",
   "metadata": {},
   "outputs": [
    {
     "name": "stdout",
     "output_type": "stream",
     "text": [
      "Line1**Line2**Line3**"
     ]
    }
   ],
   "source": [
    "print(\"Line1\", end = '**')\n",
    "print(\"Line2\", end = '**')\n",
    "print(\"Line3\", end = '**')"
   ]
  },
  {
   "cell_type": "code",
   "execution_count": 21,
   "id": "b2869b61-1f72-425f-bf89-601c78235ebb",
   "metadata": {},
   "outputs": [
    {
     "name": "stdout",
     "output_type": "stream",
     "text": [
      "Line1>>Line2>>Line3>>"
     ]
    }
   ],
   "source": [
    "print(\"Line1\", end = '>>')\n",
    "print(\"Line2\", end = '>>')\n",
    "print(\"Line3\", end = '>>')"
   ]
  },
  {
   "cell_type": "code",
   "execution_count": 22,
   "id": "1b1b9920-a3bc-4e14-bbc4-76a7e61e86c8",
   "metadata": {},
   "outputs": [
    {
     "name": "stdout",
     "output_type": "stream",
     "text": [
      "1 2 3 4\n",
      "A B C d\n",
      "i ii iii iv\n"
     ]
    }
   ],
   "source": [
    "print(1,2,3,4)\n",
    "print(\"A\",\"B\",\"C\",'d')\n",
    "print(\"i\",\"ii\",\"iii\",\"iv\")"
   ]
  },
  {
   "cell_type": "code",
   "execution_count": 23,
   "id": "d66ec64f-b7f1-4ea3-ab0d-0d050f6b7e71",
   "metadata": {},
   "outputs": [
    {
     "name": "stdout",
     "output_type": "stream",
     "text": [
      "1*2*3*4\n",
      "A>B>C>d\n",
      "i>ii>iii>iv\n"
     ]
    }
   ],
   "source": [
    "print(1,2,3,4 , sep = '*')\n",
    "print(\"A\",\"B\",\"C\",'d', sep = '>')\n",
    "print(\"i\",\"ii\",\"iii\",\"iv\", sep ='>')"
   ]
  },
  {
   "cell_type": "code",
   "execution_count": 24,
   "id": "58bf2547-2baf-4fbd-82ad-e2c9eaab446c",
   "metadata": {},
   "outputs": [
    {
     "name": "stdout",
     "output_type": "stream",
     "text": [
      "1*2*3*4 A>B>C>d i<ii<iii<iv "
     ]
    }
   ],
   "source": [
    "print(1,2,3,4,sep=\"*\", end=\" \")\n",
    "print(\"A\",\"B\",\"C\",'d', sep=\">\", end=\" \")\n",
    "print(\"i\",\"ii\",\"iii\",\"iv\", sep=\"<\", end=\" \")"
   ]
  },
  {
   "cell_type": "code",
   "execution_count": 30,
   "id": "0bdb3c6b-c0e2-40e0-a6ea-e7f959d6bff3",
   "metadata": {},
   "outputs": [],
   "source": [
    "# "
   ]
  },
  {
   "cell_type": "markdown",
   "id": "df4e4e47-a9b8-457a-88be-fa3111089508",
   "metadata": {},
   "source": []
  }
 ],
 "metadata": {
  "kernelspec": {
   "display_name": "Python 3 (ipykernel)",
   "language": "python",
   "name": "python3"
  },
  "language_info": {
   "codemirror_mode": {
    "name": "ipython",
    "version": 3
   },
   "file_extension": ".py",
   "mimetype": "text/x-python",
   "name": "python",
   "nbconvert_exporter": "python",
   "pygments_lexer": "ipython3",
   "version": "3.9.13"
  }
 },
 "nbformat": 4,
 "nbformat_minor": 5
}
