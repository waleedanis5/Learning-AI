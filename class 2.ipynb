{
 "cells": [
  {
   "cell_type": "markdown",
   "id": "69cb9698-9343-499c-bb0e-c95d4d2147ac",
   "metadata": {},
   "source": [
    "# class 2\n",
    "\n",
    "* Help\n",
    "   * function_name()\n",
    "   * help function\n",
    "   * function_name(press shift+tab)\n",
    "   * function?\n",
    "   * function??\n",
    "   * ?function\n",
    "   * ??function\n",
    "   \n",
    "* print\n",
    "   * value \n",
    "   * sep\n",
    "   * end\n",
    "   \n",
    "* variable\n",
    "   * string\n",
    "     * start with \" and end with \"\n",
    "     \"Muhammad Qasim\"\n",
    "   * you can also use these symbols for define string\n",
    "     * ' single line string\n",
    "     * \" single line string\n",
    "     * \"\"\" multilines string\n",
    "     * ''' multilines string\n",
    "\n",
    "* number\n",
    "   * int\n",
    "      * 1\n",
    "   * float\n",
    "      * 1.5\n"
   ]
  },
  {
   "cell_type": "code",
   "execution_count": 1,
   "id": "a93d6c05-ae57-4e77-9eea-cc7208a126ff",
   "metadata": {},
   "outputs": [
    {
     "name": "stdout",
     "output_type": "stream",
     "text": [
      "Help on built-in function print in module builtins:\n",
      "\n",
      "print(...)\n",
      "    print(value, ..., sep=' ', end='\\n', file=sys.stdout, flush=False)\n",
      "    \n",
      "    Prints the values to a stream, or to sys.stdout by default.\n",
      "    Optional keyword arguments:\n",
      "    file:  a file-like object (stream); defaults to the current sys.stdout.\n",
      "    sep:   string inserted between values, default a space.\n",
      "    end:   string appended after the last value, default a newline.\n",
      "    flush: whether to forcibly flush the stream.\n",
      "\n"
     ]
    }
   ],
   "source": [
    "help (print)"
   ]
  },
  {
   "cell_type": "code",
   "execution_count": 2,
   "id": "ae2eea14-fc54-432a-a159-67c39b041478",
   "metadata": {},
   "outputs": [
    {
     "name": "stdout",
     "output_type": "stream",
     "text": [
      "\n"
     ]
    }
   ],
   "source": [
    "# press shift+tab in round brekets\n",
    "print()"
   ]
  },
  {
   "cell_type": "code",
   "execution_count": 3,
   "id": "65afe927-9ba9-4391-88b1-ace56bf5f7e3",
   "metadata": {},
   "outputs": [
    {
     "data": {
      "text/plain": [
       "\u001b[1;31mDocstring:\u001b[0m\n",
       "print(value, ..., sep=' ', end='\\n', file=sys.stdout, flush=False)\n",
       "\n",
       "Prints the values to a stream, or to sys.stdout by default.\n",
       "Optional keyword arguments:\n",
       "file:  a file-like object (stream); defaults to the current sys.stdout.\n",
       "sep:   string inserted between values, default a space.\n",
       "end:   string appended after the last value, default a newline.\n",
       "flush: whether to forcibly flush the stream.\n",
       "\u001b[1;31mType:\u001b[0m      builtin_function_or_method\n"
      ]
     },
     "metadata": {},
     "output_type": "display_data"
    }
   ],
   "source": [
    "print?"
   ]
  },
  {
   "cell_type": "code",
   "execution_count": 4,
   "id": "e6e8ac57-be54-4b7f-a367-766e400d7785",
   "metadata": {},
   "outputs": [
    {
     "data": {
      "text/plain": [
       "\u001b[1;31mDocstring:\u001b[0m\n",
       "print(value, ..., sep=' ', end='\\n', file=sys.stdout, flush=False)\n",
       "\n",
       "Prints the values to a stream, or to sys.stdout by default.\n",
       "Optional keyword arguments:\n",
       "file:  a file-like object (stream); defaults to the current sys.stdout.\n",
       "sep:   string inserted between values, default a space.\n",
       "end:   string appended after the last value, default a newline.\n",
       "flush: whether to forcibly flush the stream.\n",
       "\u001b[1;31mType:\u001b[0m      builtin_function_or_method\n"
      ]
     },
     "metadata": {},
     "output_type": "display_data"
    }
   ],
   "source": [
    "?print"
   ]
  },
  {
   "cell_type": "code",
   "execution_count": 5,
   "id": "313e3ecb-1e9a-4852-9412-df4904c5dd87",
   "metadata": {},
   "outputs": [
    {
     "data": {
      "text/plain": [
       "\u001b[1;31mDocstring:\u001b[0m\n",
       "print(value, ..., sep=' ', end='\\n', file=sys.stdout, flush=False)\n",
       "\n",
       "Prints the values to a stream, or to sys.stdout by default.\n",
       "Optional keyword arguments:\n",
       "file:  a file-like object (stream); defaults to the current sys.stdout.\n",
       "sep:   string inserted between values, default a space.\n",
       "end:   string appended after the last value, default a newline.\n",
       "flush: whether to forcibly flush the stream.\n",
       "\u001b[1;31mType:\u001b[0m      builtin_function_or_method\n"
      ]
     },
     "metadata": {},
     "output_type": "display_data"
    }
   ],
   "source": [
    "??print"
   ]
  },
  {
   "cell_type": "code",
   "execution_count": 6,
   "id": "ed3fbdbd-3ec2-4921-b632-bf61d466f0d2",
   "metadata": {},
   "outputs": [
    {
     "data": {
      "text/plain": [
       "\u001b[1;31mDocstring:\u001b[0m\n",
       "print(value, ..., sep=' ', end='\\n', file=sys.stdout, flush=False)\n",
       "\n",
       "Prints the values to a stream, or to sys.stdout by default.\n",
       "Optional keyword arguments:\n",
       "file:  a file-like object (stream); defaults to the current sys.stdout.\n",
       "sep:   string inserted between values, default a space.\n",
       "end:   string appended after the last value, default a newline.\n",
       "flush: whether to forcibly flush the stream.\n",
       "\u001b[1;31mType:\u001b[0m      builtin_function_or_method\n"
      ]
     },
     "metadata": {},
     "output_type": "display_data"
    }
   ],
   "source": [
    "print??"
   ]
  },
  {
   "cell_type": "markdown",
   "id": "a9514236-7dad-4a29-94c0-238e05797010",
   "metadata": {},
   "source": [
    "# pass value in print fuction"
   ]
  },
  {
   "cell_type": "code",
   "execution_count": 8,
   "id": "ad995e90-ebff-4af7-94ef-3d1d081a9f7c",
   "metadata": {},
   "outputs": [
    {
     "name": "stdout",
     "output_type": "stream",
     "text": [
      "A B C D\n"
     ]
    }
   ],
   "source": [
    "print (\"A\", \"B\", \"C\", \"D\")"
   ]
  },
  {
   "cell_type": "code",
   "execution_count": 12,
   "id": "5e19e26b-b6a6-4717-9005-1888d33a58e7",
   "metadata": {},
   "outputs": [
    {
     "name": "stdout",
     "output_type": "stream",
     "text": [
      "ABCD\n"
     ]
    }
   ],
   "source": [
    "print (\"A\", \"B\", \"C\", \"D\" , sep ='')"
   ]
  },
  {
   "cell_type": "code",
   "execution_count": 13,
   "id": "bf4e1a21-5a03-47b6-a622-13001136300b",
   "metadata": {},
   "outputs": [
    {
     "name": "stdout",
     "output_type": "stream",
     "text": [
      "A*B*C*D\n"
     ]
    }
   ],
   "source": [
    "print (\"A\", \"B\", \"C\", \"D\" , sep ='*')"
   ]
  },
  {
   "cell_type": "code",
   "execution_count": 14,
   "id": "7aa539e3-60ea-4cdd-a671-10da0947c254",
   "metadata": {},
   "outputs": [
    {
     "name": "stdout",
     "output_type": "stream",
     "text": [
      "A***B***C***D\n"
     ]
    }
   ],
   "source": [
    "print (\"A\", \"B\", \"C\", \"D\" , sep ='***')"
   ]
  },
  {
   "cell_type": "code",
   "execution_count": 15,
   "id": "1b7b31f6-1de6-4523-9f71-847037c5e437",
   "metadata": {},
   "outputs": [
    {
     "name": "stdout",
     "output_type": "stream",
     "text": [
      "A* B* C* D\n"
     ]
    }
   ],
   "source": [
    "print (\"A\", \"B\", \"C\", \"D\" , sep ='* ')"
   ]
  },
  {
   "cell_type": "code",
   "execution_count": 16,
   "id": "74aadb53-e73f-43b9-9e36-a25366ddd107",
   "metadata": {},
   "outputs": [
    {
     "name": "stdout",
     "output_type": "stream",
     "text": [
      "A B C D 2 4.5\n"
     ]
    }
   ],
   "source": [
    "print (\"A\", \"B\", \"C\", \"D\" , 2 , 4.5 )"
   ]
  },
  {
   "cell_type": "code",
   "execution_count": 18,
   "id": "5473a6b1-fd0e-4253-ae54-2d94f810a91b",
   "metadata": {
    "tags": []
   },
   "outputs": [
    {
     "name": "stdout",
     "output_type": "stream",
     "text": [
      "Line1 A\n",
      "Line2 B\n",
      "Line3 C\n"
     ]
    }
   ],
   "source": [
    "print(\"Line1\",\"A\")\n",
    "print(\"Line2\",\"B\")\n",
    "print(\"Line3\",\"C\")"
   ]
  },
  {
   "cell_type": "code",
   "execution_count": 19,
   "id": "707b27c6-d0de-4cfe-9d1f-4a170d6e9520",
   "metadata": {},
   "outputs": [
    {
     "name": "stdout",
     "output_type": "stream",
     "text": [
      "Line1\n",
      "Line2\n",
      "Line3\n"
     ]
    }
   ],
   "source": [
    "print(\"Line1\", end = '\\n')\n",
    "print(\"Line2\", end = '\\n')\n",
    "print(\"Line3\", end = '\\n')"
   ]
  },
  {
   "cell_type": "code",
   "execution_count": 20,
   "id": "98b73b8f-f228-442e-a64d-4fce5ed81f72",
   "metadata": {},
   "outputs": [
    {
     "name": "stdout",
     "output_type": "stream",
     "text": [
      "Line1**Line2**Line3**"
     ]
    }
   ],
   "source": [
    "print(\"Line1\", end = '**')\n",
    "print(\"Line2\", end = '**')\n",
    "print(\"Line3\", end = '**')"
   ]
  },
  {
   "cell_type": "code",
   "execution_count": 21,
   "id": "b2869b61-1f72-425f-bf89-601c78235ebb",
   "metadata": {},
   "outputs": [
    {
     "name": "stdout",
     "output_type": "stream",
     "text": [
      "Line1>>Line2>>Line3>>"
     ]
    }
   ],
   "source": [
    "print(\"Line1\", end = '>>')\n",
    "print(\"Line2\", end = '>>')\n",
    "print(\"Line3\", end = '>>')"
   ]
  },
  {
   "cell_type": "code",
   "execution_count": 22,
   "id": "1b1b9920-a3bc-4e14-bbc4-76a7e61e86c8",
   "metadata": {},
   "outputs": [
    {
     "name": "stdout",
     "output_type": "stream",
     "text": [
      "1 2 3 4\n",
      "A B C d\n",
      "i ii iii iv\n"
     ]
    }
   ],
   "source": [
    "print(1,2,3,4)\n",
    "print(\"A\",\"B\",\"C\",'d')\n",
    "print(\"i\",\"ii\",\"iii\",\"iv\")"
   ]
  },
  {
   "cell_type": "code",
   "execution_count": 23,
   "id": "d66ec64f-b7f1-4ea3-ab0d-0d050f6b7e71",
   "metadata": {},
   "outputs": [
    {
     "name": "stdout",
     "output_type": "stream",
     "text": [
      "1*2*3*4\n",
      "A>B>C>d\n",
      "i>ii>iii>iv\n"
     ]
    }
   ],
   "source": [
    "print(1,2,3,4 , sep = '*')\n",
    "print(\"A\",\"B\",\"C\",'d', sep = '>')\n",
    "print(\"i\",\"ii\",\"iii\",\"iv\", sep ='>')"
   ]
  },
  {
   "cell_type": "code",
   "execution_count": 24,
   "id": "58bf2547-2baf-4fbd-82ad-e2c9eaab446c",
   "metadata": {},
   "outputs": [
    {
     "name": "stdout",
     "output_type": "stream",
     "text": [
      "1*2*3*4 A>B>C>d i<ii<iii<iv "
     ]
    }
   ],
   "source": [
    "print(1,2,3,4,sep=\"*\", end=\" \")\n",
    "print(\"A\",\"B\",\"C\",'d', sep=\">\", end=\" \")\n",
    "print(\"i\",\"ii\",\"iii\",\"iv\", sep=\"<\", end=\" \")"
   ]
  },
  {
   "cell_type": "markdown",
   "id": "1b47b287-0abb-4f02-871f-d1a7c362fde8",
   "metadata": {},
   "source": [
    "# Variable\n",
    "https://peps.python.org/pep-0020/ \n",
    " \n",
    "python/02_class_print_variable/ram_variable_storage.png\n"
   ]
  },
  {
   "cell_type": "markdown",
   "id": "df898c13-a488-45f9-913a-53d0cbf1e1a7",
   "metadata": {},
   "source": [
    "**```variable_name = value```**"
   ]
  },
  {
   "cell_type": "code",
   "execution_count": 33,
   "id": "cdde3b24-cab6-46c0-9e82-09c8724ef4de",
   "metadata": {},
   "outputs": [
    {
     "name": "stdout",
     "output_type": "stream",
     "text": [
      "Muhammad Qasim\n",
      "Muhammad Qasim\n",
      "Muhammad Qasim\n"
     ]
    }
   ],
   "source": [
    "user = \"Waleed Anis\"\n",
    "\n",
    "print(user)\n",
    "print(user)\n",
    "print(user)"
   ]
  },
  {
   "cell_type": "code",
   "execution_count": 37,
   "id": "52cb4693-927f-444a-9307-bcaf94838ba3",
   "metadata": {},
   "outputs": [
    {
     "name": "stdout",
     "output_type": "stream",
     "text": [
      "Waleed Anis\n",
      "Waleed Anis\n",
      "Waleed Anis\n"
     ]
    }
   ],
   "source": [
    "print(\"Waleed Anis\")\n",
    "print(\"Waleed Anis\")\n",
    "print(\"Waleed Anis\")"
   ]
  },
  {
   "cell_type": "markdown",
   "id": "bc056998-2ea9-41f8-8a44-a0a168ae57fc",
   "metadata": {},
   "source": [
    "var name string = \"Waleed Anis\""
   ]
  },
  {
   "cell_type": "code",
   "execution_count": 43,
   "id": "bb6cb989-3177-4bd1-acd1-184f70b03be8",
   "metadata": {},
   "outputs": [
    {
     "name": "stdout",
     "output_type": "stream",
     "text": [
      "Welcome Dear Waleed Anis Happy Birtday on your 22\n"
     ]
    }
   ],
   "source": [
    "name = \"Waleed Anis\"\n",
    "age = 22\n",
    "education = \"BS-SE\"\n",
    "\n",
    "print(\"Welcome Dear\", name,\"Happy Birtday on your\", age)"
   ]
  },
  {
   "cell_type": "code",
   "execution_count": 44,
   "id": "640b4468-adf8-492b-8a46-8089fab17133",
   "metadata": {},
   "outputs": [
    {
     "name": "stdout",
     "output_type": "stream",
     "text": [
      "\n",
      "Saylani Mass IT program\n",
      "Batch-4 AI and DS\n",
      "Class days: Tue and Fri\n",
      "\n"
     ]
    }
   ],
   "source": [
    "card = \"\"\"\n",
    "Saylani Mass IT program\n",
    "Batch-4 AI and DS\n",
    "Class days: Tue and Fri\n",
    "\"\"\"\n",
    "\n",
    "print(card)"
   ]
  },
  {
   "cell_type": "code",
   "execution_count": 45,
   "id": "d8174262-8941-4904-8ee3-e82f61f159e0",
   "metadata": {},
   "outputs": [
    {
     "name": "stdout",
     "output_type": "stream",
     "text": [
      "Saylani Mass IT program\n",
      "0Batch-4 AI and DS\n",
      "Class days: Tue and Fri\n"
     ]
    }
   ],
   "source": [
    "card = \"Saylani Mass IT program\\n0Batch-4 AI and DS\\nClass days: Tue and Fri\"\n",
    "\n",
    "print(card)"
   ]
  },
  {
   "cell_type": "code",
   "execution_count": 49,
   "id": "5d0407b6-0bd3-41f9-b158-05a3bbc53cef",
   "metadata": {},
   "outputs": [
    {
     "ename": "SyntaxError",
     "evalue": "invalid syntax (723650844.py, line 1)",
     "output_type": "error",
     "traceback": [
      "\u001b[1;36m  File \u001b[1;32m\"C:\\Users\\Osama\\AppData\\Local\\Temp\\ipykernel_12740\\723650844.py\"\u001b[1;36m, line \u001b[1;32m1\u001b[0m\n\u001b[1;33m    message = 'Welcome Dear 'Waleed Anis''\u001b[0m\n\u001b[1;37m                             ^\u001b[0m\n\u001b[1;31mSyntaxError\u001b[0m\u001b[1;31m:\u001b[0m invalid syntax\n"
     ]
    }
   ],
   "source": [
    "message = 'Welcome Dear 'Waleed Anis''\n",
    "print(message)"
   ]
  },
  {
   "cell_type": "code",
   "execution_count": 50,
   "id": "4315dc3c-74c8-4646-8f6b-702f098ea4a8",
   "metadata": {},
   "outputs": [
    {
     "ename": "SyntaxError",
     "evalue": "invalid syntax (915172004.py, line 1)",
     "output_type": "error",
     "traceback": [
      "\u001b[1;36m  File \u001b[1;32m\"C:\\Users\\Osama\\AppData\\Local\\Temp\\ipykernel_12740\\915172004.py\"\u001b[1;36m, line \u001b[1;32m1\u001b[0m\n\u001b[1;33m    message = \"Welcome Dear \"Waleed Anis\"\"\u001b[0m\n\u001b[1;37m                             ^\u001b[0m\n\u001b[1;31mSyntaxError\u001b[0m\u001b[1;31m:\u001b[0m invalid syntax\n"
     ]
    }
   ],
   "source": [
    "message = \"Welcome Dear \"Waleed Anis\"\"\n",
    "print(message)"
   ]
  },
  {
   "cell_type": "code",
   "execution_count": 51,
   "id": "e0561dac-844a-442e-ab52-2312fab17740",
   "metadata": {},
   "outputs": [
    {
     "name": "stdout",
     "output_type": "stream",
     "text": [
      "Welcome Dear Waleed Anis\n"
     ]
    }
   ],
   "source": [
    "message = \"Welcome Dear Waleed Anis\"\n",
    "print(message)"
   ]
  },
  {
   "cell_type": "code",
   "execution_count": 52,
   "id": "8a97b0ae-b7b8-4fb5-bf80-460b9d9df402",
   "metadata": {},
   "outputs": [
    {
     "name": "stdout",
     "output_type": "stream",
     "text": [
      "Welcome Dear \"Waleed Anis\"\n"
     ]
    }
   ],
   "source": [
    "message = 'Welcome Dear \"Waleed Anis\"'\n",
    "print(message)"
   ]
  },
  {
   "cell_type": "code",
   "execution_count": 53,
   "id": "4c9f6661-a326-44c5-b820-43c3244e216a",
   "metadata": {},
   "outputs": [
    {
     "name": "stdout",
     "output_type": "stream",
     "text": [
      "Welcome Dear 'Waleed Anis'\n"
     ]
    }
   ],
   "source": [
    "message = \"Welcome Dear 'Waleed Anis'\"\n",
    "print(message)"
   ]
  },
  {
   "cell_type": "markdown",
   "id": "7fcf0b51-8481-45e6-81aa-24fc3ebf2945",
   "metadata": {},
   "source": [
    "# convert special character into normal character put *\\\\* before this character"
   ]
  },
  {
   "cell_type": "code",
   "execution_count": 54,
   "id": "783504e7-7a77-4748-bd44-12266a09a9fc",
   "metadata": {},
   "outputs": [
    {
     "name": "stdout",
     "output_type": "stream",
     "text": [
      "Welcome Dear \"Waleed Anis\"  \n"
     ]
    }
   ],
   "source": [
    "message = \"Welcome Dear \\\"Waleed Anis\\\"  \"\n",
    "print(message)"
   ]
  },
  {
   "cell_type": "markdown",
   "id": "b73507e9-c958-45b1-87b5-1a3995ab6ed3",
   "metadata": {},
   "source": [
    "# apply some function on variable\n",
    "   * help()\n",
    "   * len()\n",
    "   * id()\n",
    "   * type()\n",
    "   * dir()"
   ]
  },
  {
   "cell_type": "code",
   "execution_count": 55,
   "id": "c3198cd6-e5e5-4458-8b38-07ab861fe29e",
   "metadata": {},
   "outputs": [
    {
     "name": "stdout",
     "output_type": "stream",
     "text": [
      "Waleed Anis\n",
      "11\n",
      "<class 'str'>\n",
      "1613221048624\n",
      "['__add__', '__class__', '__contains__', '__delattr__', '__dir__', '__doc__', '__eq__', '__format__', '__ge__', '__getattribute__', '__getitem__', '__getnewargs__', '__gt__', '__hash__', '__init__', '__init_subclass__', '__iter__', '__le__', '__len__', '__lt__', '__mod__', '__mul__', '__ne__', '__new__', '__reduce__', '__reduce_ex__', '__repr__', '__rmod__', '__rmul__', '__setattr__', '__sizeof__', '__str__', '__subclasshook__', 'capitalize', 'casefold', 'center', 'count', 'encode', 'endswith', 'expandtabs', 'find', 'format', 'format_map', 'index', 'isalnum', 'isalpha', 'isascii', 'isdecimal', 'isdigit', 'isidentifier', 'islower', 'isnumeric', 'isprintable', 'isspace', 'istitle', 'isupper', 'join', 'ljust', 'lower', 'lstrip', 'maketrans', 'partition', 'removeprefix', 'removesuffix', 'replace', 'rfind', 'rindex', 'rjust', 'rpartition', 'rsplit', 'rstrip', 'split', 'splitlines', 'startswith', 'strip', 'swapcase', 'title', 'translate', 'upper', 'zfill']\n"
     ]
    }
   ],
   "source": [
    "name = \"Waleed Anis\"\n",
    "\n",
    "print(name)\n",
    "print(len(name)) # length of variable\n",
    "print(type(name)) # variable type\n",
    "print(id(name)) # memory address of variable\n",
    "print(dir(name)) # all methods and attributes of variable"
   ]
  },
  {
   "cell_type": "code",
   "execution_count": 56,
   "id": "7261aa3a-9535-4219-8039-4f86d922d85a",
   "metadata": {},
   "outputs": [
    {
     "name": "stdout",
     "output_type": "stream",
     "text": [
      "22\n",
      "<class 'int'>\n",
      "1613105032144\n",
      "['__abs__', '__add__', '__and__', '__bool__', '__ceil__', '__class__', '__delattr__', '__dir__', '__divmod__', '__doc__', '__eq__', '__float__', '__floor__', '__floordiv__', '__format__', '__ge__', '__getattribute__', '__getnewargs__', '__gt__', '__hash__', '__index__', '__init__', '__init_subclass__', '__int__', '__invert__', '__le__', '__lshift__', '__lt__', '__mod__', '__mul__', '__ne__', '__neg__', '__new__', '__or__', '__pos__', '__pow__', '__radd__', '__rand__', '__rdivmod__', '__reduce__', '__reduce_ex__', '__repr__', '__rfloordiv__', '__rlshift__', '__rmod__', '__rmul__', '__ror__', '__round__', '__rpow__', '__rrshift__', '__rshift__', '__rsub__', '__rtruediv__', '__rxor__', '__setattr__', '__sizeof__', '__str__', '__sub__', '__subclasshook__', '__truediv__', '__trunc__', '__xor__', 'as_integer_ratio', 'bit_length', 'conjugate', 'denominator', 'from_bytes', 'imag', 'numerator', 'real', 'to_bytes']\n"
     ]
    },
    {
     "data": {
      "text/plain": [
       "30"
      ]
     },
     "execution_count": 56,
     "metadata": {},
     "output_type": "execute_result"
    }
   ],
   "source": [
    "age = 22\n",
    "\n",
    "print(age)\n",
    "# print(len(age)) # length of variable\n",
    "print(type(age)) # variable type\n",
    "print(id(age)) # memory address of variable\n",
    "print(dir(age)) # all methods and attributes of variable\n",
    "30"
   ]
  },
  {
   "cell_type": "code",
   "execution_count": null,
   "id": "e2035a69-a7bc-4af6-800c-67aba4593f33",
   "metadata": {},
   "outputs": [],
   "source": []
  }
 ],
 "metadata": {
  "kernelspec": {
   "display_name": "Python 3 (ipykernel)",
   "language": "python",
   "name": "python3"
  },
  "language_info": {
   "codemirror_mode": {
    "name": "ipython",
    "version": 3
   },
   "file_extension": ".py",
   "mimetype": "text/x-python",
   "name": "python",
   "nbconvert_exporter": "python",
   "pygments_lexer": "ipython3",
   "version": "3.9.13"
  }
 },
 "nbformat": 4,
 "nbformat_minor": 5
}
