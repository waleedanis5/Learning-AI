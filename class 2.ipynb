{
 "cells": [
  {
   "cell_type": "markdown",
   "id": "6939fade-a388-4698-ba16-e7a8aae62d98",
   "metadata": {
    "tags": []
   },
   "source": [
    "# class 2\n",
    "   \n",
    "* Help\n",
    "   * function_name()\n",
    "   * help function\n",
    "   * function_name(press shift+tab)\n",
    "   * function?\n",
    "   * function??\n",
    "   * ?function\n",
    "   * ??function\n",
    "   \n",
    "* print\n",
    "   * value \n",
    "   * sep\n",
    "   * end\n",
    "   \n",
    "* variable\n",
    "   * string\n",
    "      * start with \" and end with \"\n",
    "        \"Muhammad Qasim\"\n",
    "   * you can also use these symbols for define string\n",
    "      * ' single line string\n",
    "      * \" single line string\n",
    "      * \"\"\" multilines string\n",
    "      * ''' multilines string\n",
    "      \n",
    "* number\n",
    "   * int\n",
    "      1\n",
    "   * float\n",
    "      1.5\n"
   ]
  },
  {
   "cell_type": "code",
   "execution_count": null,
   "id": "b302472d-720d-46eb-95c7-b7b5b39a67b6",
   "metadata": {},
   "outputs": [],
   "source": []
  }
 ],
 "metadata": {
  "kernelspec": {
   "display_name": "Python 3 (ipykernel)",
   "language": "python",
   "name": "python3"
  },
  "language_info": {
   "codemirror_mode": {
    "name": "ipython",
    "version": 3
   },
   "file_extension": ".py",
   "mimetype": "text/x-python",
   "name": "python",
   "nbconvert_exporter": "python",
   "pygments_lexer": "ipython3",
   "version": "3.9.13"
  },
  "toc-autonumbering": false,
  "toc-showcode": true
 },
 "nbformat": 4,
 "nbformat_minor": 5
}
