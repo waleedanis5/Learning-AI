{
 "cells": [
  {
   "cell_type": "markdown",
   "id": "7062c718",
   "metadata": {},
   "source": [
    "# Python Operators\n",
    "   \n",
    " * Operators are used to perform operations on variables and values.\n",
    "\n",
    " * In the example below, we use the + operator to add together two values:\n"
   ]
  },
  {
   "cell_type": "code",
   "execution_count": null,
   "id": "daf01562",
   "metadata": {},
   "outputs": [],
   "source": []
  }
 ],
 "metadata": {
  "kernelspec": {
   "display_name": "Python 3 (ipykernel)",
   "language": "python",
   "name": "python3"
  },
  "language_info": {
   "codemirror_mode": {
    "name": "ipython",
    "version": 3
   },
   "file_extension": ".py",
   "mimetype": "text/x-python",
   "name": "python",
   "nbconvert_exporter": "python",
   "pygments_lexer": "ipython3",
   "version": "3.9.13"
  }
 },
 "nbformat": 4,
 "nbformat_minor": 5
}
