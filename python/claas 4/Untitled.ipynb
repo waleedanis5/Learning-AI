{
 "cells": [
  {
   "cell_type": "markdown",
   "id": "7062c718",
   "metadata": {},
   "source": [
    "# Python Operators\n",
    "   \n",
    " * Operators are used to perform operations on variables and values.\n",
    "\n",
    " * In the example below, we use the + operator to add together two values:\n",
    "\n",
    " * Python divides the operators in the following groups:\n",
    "    * Arithmetic operators\n",
    "    * Assignment operators\n",
    "    * Comparison operators\n",
    "    * Logical operators\n",
    "    * Identity operators\n",
    "Membership operators\n",
    "Bitwise operators"
   ]
  },
  {
   "cell_type": "code",
   "execution_count": null,
   "id": "daf01562",
   "metadata": {},
   "outputs": [],
   "source": []
  }
 ],
 "metadata": {
  "kernelspec": {
   "display_name": "Python 3 (ipykernel)",
   "language": "python",
   "name": "python3"
  },
  "language_info": {
   "codemirror_mode": {
    "name": "ipython",
    "version": 3
   },
   "file_extension": ".py",
   "mimetype": "text/x-python",
   "name": "python",
   "nbconvert_exporter": "python",
   "pygments_lexer": "ipython3",
   "version": "3.9.13"
  }
 },
 "nbformat": 4,
 "nbformat_minor": 5
}
