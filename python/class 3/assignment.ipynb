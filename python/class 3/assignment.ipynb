{
 "cells": [
  {
   "cell_type": "markdown",
   "id": "4605d69e-62a9-42db-8684-b4b6c8131f45",
   "metadata": {},
   "source": [
    "# Concatination with plus "
   ]
  },
  {
   "cell_type": "code",
   "execution_count": 1,
   "id": "ba9d0a58-4eef-4186-bcc3-09dc96584d80",
   "metadata": {},
   "outputs": [
    {
     "name": "stdout",
     "output_type": "stream",
     "text": [
      "Institute Name: Saylani Mass IT Training\n",
      "Full Name:Waleed Anis\n",
      "Requirements: \n",
      "Student should have the basic knowledge about computers\n",
      "and programming langauages and must have the laptop  \n",
      "Age:22\n"
     ]
    }
   ],
   "source": [
    "institute_name = \"Saylani Mass IT Training\"\n",
    "first_name = \"Waleed\"\n",
    "last_name = \"Anis\"\n",
    "requirements = \"\"\" \n",
    "Student should have the basic knowledge about computers\n",
    "and programming langauages and must have the laptop  \"\"\"\n",
    "Age = 22\n",
    "\n",
    "form = \"Institute Name: \" + institute_name + \"\\nFull Name:\" + first_name +\" \"+last_name + \"\\nRequirements:\" + requirements + \"\\nAge:\" + str(Age)  \n",
    "\n",
    "print(form)"
   ]
  },
  {
   "cell_type": "code",
   "execution_count": 7,
   "id": "5954e619-83b6-4b7c-b230-249d6dcfd4fa",
   "metadata": {},
   "outputs": [
    {
     "name": "stdout",
     "output_type": "stream",
     "text": [
      "Institute Name: Saylani Mass IT Training\n",
      "Full Name: Waleed Anis\n",
      "Requirements:  \n",
      "Student should have the basic knowledge programming langauages \n",
      "and must have the laptop and last qualification just b inter pass \n",
      "Age: 22\n"
     ]
    }
   ],
   "source": [
    "institute_name = \"Saylani Mass IT Training\"\n",
    "first_name = \"Waleed\"\n",
    "last_name = \"Anis\"\n",
    "requirements = \"\"\" \n",
    "Student should have the basic knowledge programming langauages \n",
    "and must have the laptop and last qualification just be inter pass \"\"\"\n",
    "Age = str(22)\n",
    "\n",
    "form = \"Institute Name: \" + institute_name+\"\\nFull Name: \" + first_name +\" \" + last_name + \"\\nRequirements: \" + requirements + \"\\nAge: \" + Age  \n",
    "print(form)"
   ]
  },
  {
   "cell_type": "code",
   "execution_count": null,
   "id": "9985fd2a-270f-4ac2-9a8f-1db9fc04963a",
   "metadata": {},
   "outputs": [],
   "source": []
  },
  {
   "cell_type": "code",
   "execution_count": null,
   "id": "a109fdba-31a3-4b06-92ec-3828ceaa09cf",
   "metadata": {},
   "outputs": [],
   "source": [
    "\n"
   ]
  }
 ],
 "metadata": {
  "kernelspec": {
   "display_name": "Python 3 (ipykernel)",
   "language": "python",
   "name": "python3"
  },
  "language_info": {
   "codemirror_mode": {
    "name": "ipython",
    "version": 3
   },
   "file_extension": ".py",
   "mimetype": "text/x-python",
   "name": "python",
   "nbconvert_exporter": "python",
   "pygments_lexer": "ipython3",
   "version": "3.9.13"
  }
 },
 "nbformat": 4,
 "nbformat_minor": 5
}
