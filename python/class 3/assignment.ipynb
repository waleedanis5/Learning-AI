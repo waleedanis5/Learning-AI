{
 "cells": [
  {
   "cell_type": "markdown",
   "id": "4605d69e-62a9-42db-8684-b4b6c8131f45",
   "metadata": {},
   "source": [
    "# Concatination with plus "
   ]
  },
  {
   "cell_type": "code",
   "execution_count": 1,
   "id": "ba9d0a58-4eef-4186-bcc3-09dc96584d80",
   "metadata": {},
   "outputs": [
    {
     "name": "stdout",
     "output_type": "stream",
     "text": [
      "Institute Name: Saylani Mass IT Training\n",
      "Full Name:Waleed Anis\n",
      "Requirements: \n",
      "Student should have the basic knowledge about computers\n",
      "and programming langauages and must have the laptop  \n",
      "Age:22\n"
     ]
    }
   ],
   "source": [
    "institute_name = \"Saylani Mass IT Training\"\n",
    "first_name = \"Waleed\"\n",
    "last_name = \"Anis\"\n",
    "requirements = \"\"\" \n",
    "Student should have the basic knowledge about computers\n",
    "and programming langauages and must have the laptop  \"\"\"\n",
    "Age = 22\n",
    "\n",
    "form = \"Institute Name: \" + institute_name + \"\\nFull Name:\" + first_name +\" \"+last_name + \"\\nRequirements:\" + requirements + \"\\nAge:\" + str(Age)  \n",
    "\n",
    "print(form)"
   ]
  },
  {
   "cell_type": "code",
   "execution_count": 7,
   "id": "5954e619-83b6-4b7c-b230-249d6dcfd4fa",
   "metadata": {},
   "outputs": [
    {
     "name": "stdout",
     "output_type": "stream",
     "text": [
      "Institute Name: Saylani Mass IT Training\n",
      "Full Name: Waleed Anis\n",
      "Requirements:  \n",
      "Student should have the basic knowledge programming langauages \n",
      "and must have the laptop and last qualification just b inter pass \n",
      "Age: 22\n"
     ]
    }
   ],
   "source": [
    "institute_name = \"Saylani Mass IT Training\"\n",
    "first_name = \"Waleed\"\n",
    "last_name = \"Anis\"\n",
    "requirements = \"\"\" \n",
    "Student should have the basic knowledge programming langauages \n",
    "and must have the laptop and last qualification just be inter pass \"\"\"\n",
    "Age = str(22)\n",
    "\n",
    "form = \"Institute Name: \" + institute_name+\"\\nFull Name: \" + first_name +\" \" + last_name + \"\\nRequirements: \" + requirements + \"\\nAge: \" + Age  \n",
    "print(form)"
   ]
  },
  {
   "cell_type": "markdown",
   "id": "2db4b5d4-11ec-4a77-9666-8980b787aceb",
   "metadata": {},
   "source": [
    "# with variable_name.format(var1,var2,var3)"
   ]
  },
  {
   "cell_type": "code",
   "execution_count": 4,
   "id": "a109fdba-31a3-4b06-92ec-3828ceaa09cf",
   "metadata": {},
   "outputs": [
    {
     "name": "stdout",
     "output_type": "stream",
     "text": [
      "\n",
      "Institute Name:Saylani Mass IT Training\n",
      "First Name:Waleed \n",
      "Last Name:Anis \n",
      "Requirements:Student must have basic knowledge about programming\n",
      "and must have the laptop and last qualification must be inter pass\n",
      "Age:22 \n",
      "\n"
     ]
    }
   ],
   "source": [
    "institute_name = \"Saylani Mass IT Training\"\n",
    "first_name = \"Waleed\"\n",
    "last_name = \"Anis\"\n",
    "requirements = \"\"\" \n",
    "Student should have the basic knowledge programming langauages \n",
    "and must have the laptop and last qualification just be inter pass \"\"\"\n",
    "Age = str(22)\n",
    "\n",
    "Id_card = \"\"\"\n",
    "Institute Name:Saylani Mass IT Training\n",
    "First Name:Waleed \n",
    "Last Name:Anis \n",
    "Requirements:Student must have basic knowledge about programming\n",
    "and must have the laptop and last qualification must be inter pass\n",
    "Age:22 \n",
    "\"\"\".format(institute_name,first_name,last_name,requirements,Age)\n",
    "\n",
    "print(Id_card)"
   ]
  },
  {
   "cell_type": "code",
   "execution_count": 6,
   "id": "557ffee9-2b06-41e2-bff0-bd6e8c7971e4",
   "metadata": {},
   "outputs": [
    {
     "name": "stdout",
     "output_type": "stream",
     "text": [
      "\n",
      "Institute Name:Saylani Mass IT Training\n",
      "First Name:Waleed\n",
      "Last Name:Anis\n",
      "Requirements: \n",
      "Student should have the basic knowledge programming langauages \n",
      "and must have the laptop and last qualification just be inter pass \n",
      "Age:22\n",
      "\n"
     ]
    }
   ],
   "source": [
    "institute_name = \"Saylani Mass IT Training\"\n",
    "first_name = \"Waleed\"\n",
    "last_name = \"Anis\"\n",
    "requirements = \"\"\" \n",
    "Student should have the basic knowledge programming langauages \n",
    "and must have the laptop and last qualification just be inter pass \"\"\"\n",
    "Age = str(22)\n",
    "\n",
    "Id_card = \"\"\"\n",
    "Institute Name:{}\n",
    "First Name:{}\n",
    "Last Name:{}\n",
    "Requirements:{}\n",
    "Age:{}\n",
    "\"\"\".format(institute_name,first_name,last_name,requirements,Age)\n",
    "\n",
    "print(Id_card)"
   ]
  },
  {
   "cell_type": "code",
   "execution_count": 13,
   "id": "64cd65f9-2ca9-4586-81d0-22b8c7e61cb1",
   "metadata": {},
   "outputs": [
    {
     "name": "stdout",
     "output_type": "stream",
     "text": [
      "\n",
      "Institute Name:Saylani Mass IT Training\n",
      "Full Name:Waleed Anis\n",
      "Requirements: \n",
      "Student should have the basic knowledge programming langauages \n",
      "and must have the laptop and last qualification just be inter pass \n",
      "Age:22\n",
      "\n",
      "\n"
     ]
    }
   ],
   "source": [
    "institute_name = \"Saylani Mass IT Training\"\n",
    "first_name = \"Waleed\"\n",
    "last_name = \"Anis\"\n",
    "requirements = \"\"\" \n",
    "Student should have the basic knowledge programming langauages \n",
    "and must have the laptop and last qualification just be inter pass \"\"\"\n",
    "Age = str(22)\n",
    "\n",
    "Id_card = \"\"\"\n",
    "Institute Name:{0}\n",
    "Full Name:{1} {2}\n",
    "Requirements:{3}\n",
    "Age:{4}\n",
    "\n",
    "\"\"\".format(institute_name,first_name,last_name,requirements,Age)\n",
    "\n",
    "print(Id_card)"
   ]
  },
  {
   "cell_type": "code",
   "execution_count": 19,
   "id": "30c585eb-5111-4e97-a96d-e1a0d976ec48",
   "metadata": {
    "tags": []
   },
   "outputs": [
    {
     "name": "stdout",
     "output_type": "stream",
     "text": [
      "Institute Name: Saylani Mass IT Training\n",
      "Full Name:Waleed Anis\n",
      "Requirements: \n",
      "Student should have the basic knowledge programming langauages \n",
      "and must have the laptop and last qualification just be inter pass \n",
      "Age: 22\n",
      "\n"
     ]
    }
   ],
   "source": [
    "institute_name = \"Saylani Mass IT Training\"\n",
    "first_name = \"Waleed\"\n",
    "last_name = \"Anis\"\n",
    "requirements = \"\"\" \n",
    "Student should have the basic knowledge programming langauages \n",
    "and must have the laptop and last qualification just be inter pass \"\"\"\n",
    "Age = 22\n",
    "\n",
    "Id_card = \"\"\"Institute Name: %s\n",
    "Full Name:%s %s\n",
    "Requirements:%s\n",
    "Age: %d\n",
    "\"\"\" %(institute_name,first_name,last_name,requirements,Age)\n",
    "\n",
    "print(Id_card)"
   ]
  },
  {
   "cell_type": "code",
   "execution_count": 20,
   "id": "4f167105-8704-417d-8a0c-f2a7e203c63f",
   "metadata": {},
   "outputs": [
    {
     "name": "stdout",
     "output_type": "stream",
     "text": [
      "Institute Name: Saylani Mass IT Training\n",
      "Full Name:Waleed Anis\n",
      "Requirements: \n",
      "Student should have the basic knowledge programming langauages \n",
      "and must have the laptop and last qualification just be inter pass \n",
      "Age: 22\n",
      "\n"
     ]
    }
   ],
   "source": [
    "print(Id_card)"
   ]
  },
  {
   "cell_type": "code",
   "execution_count": 22,
   "id": "18cc969d-69fb-4a3b-894b-80a9d1aa87b6",
   "metadata": {},
   "outputs": [
    {
     "data": {
      "text/plain": [
       "['__add__',\n",
       " '__class__',\n",
       " '__contains__',\n",
       " '__delattr__',\n",
       " '__dir__',\n",
       " '__doc__',\n",
       " '__eq__',\n",
       " '__format__',\n",
       " '__ge__',\n",
       " '__getattribute__',\n",
       " '__getitem__',\n",
       " '__getnewargs__',\n",
       " '__gt__',\n",
       " '__hash__',\n",
       " '__init__',\n",
       " '__init_subclass__',\n",
       " '__iter__',\n",
       " '__le__',\n",
       " '__len__',\n",
       " '__lt__',\n",
       " '__mod__',\n",
       " '__mul__',\n",
       " '__ne__',\n",
       " '__new__',\n",
       " '__reduce__',\n",
       " '__reduce_ex__',\n",
       " '__repr__',\n",
       " '__rmod__',\n",
       " '__rmul__',\n",
       " '__setattr__',\n",
       " '__sizeof__',\n",
       " '__str__',\n",
       " '__subclasshook__',\n",
       " 'capitalize',\n",
       " 'casefold',\n",
       " 'center',\n",
       " 'count',\n",
       " 'encode',\n",
       " 'endswith',\n",
       " 'expandtabs',\n",
       " 'find',\n",
       " 'format',\n",
       " 'format_map',\n",
       " 'index',\n",
       " 'isalnum',\n",
       " 'isalpha',\n",
       " 'isascii',\n",
       " 'isdecimal',\n",
       " 'isdigit',\n",
       " 'isidentifier',\n",
       " 'islower',\n",
       " 'isnumeric',\n",
       " 'isprintable',\n",
       " 'isspace',\n",
       " 'istitle',\n",
       " 'isupper',\n",
       " 'join',\n",
       " 'ljust',\n",
       " 'lower',\n",
       " 'lstrip',\n",
       " 'maketrans',\n",
       " 'partition',\n",
       " 'removeprefix',\n",
       " 'removesuffix',\n",
       " 'replace',\n",
       " 'rfind',\n",
       " 'rindex',\n",
       " 'rjust',\n",
       " 'rpartition',\n",
       " 'rsplit',\n",
       " 'rstrip',\n",
       " 'split',\n",
       " 'splitlines',\n",
       " 'startswith',\n",
       " 'strip',\n",
       " 'swapcase',\n",
       " 'title',\n",
       " 'translate',\n",
       " 'upper',\n",
       " 'zfill']"
      ]
     },
     "execution_count": 22,
     "metadata": {},
     "output_type": "execute_result"
    }
   ],
   "source": [
    "dir(Id_card)"
   ]
  },
  {
   "cell_type": "code",
   "execution_count": 24,
   "id": "313723fa-53b7-435c-ba60-634940392797",
   "metadata": {},
   "outputs": [
    {
     "name": "stdout",
     "output_type": "stream",
     "text": [
      "0 capitalize\n",
      "1 casefold\n",
      "2 center\n",
      "3 count\n",
      "4 encode\n",
      "5 endswith\n",
      "6 expandtabs\n",
      "7 find\n",
      "8 format\n",
      "9 index\n",
      "10 isalnum\n",
      "11 isalpha\n",
      "12 isascii\n",
      "13 isdecimal\n",
      "14 isdigit\n",
      "15 isidentifier\n",
      "16 islower\n",
      "17 isnumeric\n",
      "18 isprintable\n",
      "19 isspace\n",
      "20 istitle\n",
      "21 isupper\n",
      "22 join\n",
      "23 ljust\n",
      "24 lower\n",
      "25 lstrip\n",
      "26 maketrans\n",
      "27 partition\n",
      "28 removeprefix\n",
      "29 removesuffix\n",
      "30 replace\n",
      "31 rfind\n",
      "32 rindex\n",
      "33 rjust\n",
      "34 rpartition\n",
      "35 rsplit\n",
      "36 rstrip\n",
      "37 split\n",
      "38 splitlines\n",
      "39 startswith\n",
      "40 strip\n",
      "41 swapcase\n",
      "42 title\n",
      "43 translate\n",
      "44 upper\n",
      "45 zfill\n"
     ]
    }
   ],
   "source": [
    "for  idx, i in enumerate([i for i in dir(Id_card) if \"_\" not in i]):\n",
    "    print(idx,i)"
   ]
  },
  {
   "cell_type": "code",
   "execution_count": 28,
   "id": "e3f45278-6c61-406f-b1bd-b33c2dc5e5ab",
   "metadata": {},
   "outputs": [
    {
     "name": "stdout",
     "output_type": "stream",
     "text": [
      "Institute name: saylani mass it training\n",
      "full name:waleed anis\n",
      "requirements: \n",
      "student should have the basic knowledge programming langauages \n",
      "and must have the laptop and last qualification just be inter pass \n",
      "age: 22\n",
      "\n"
     ]
    }
   ],
   "source": [
    "print(Id_card.capitalize())"
   ]
  },
  {
   "cell_type": "code",
   "execution_count": 29,
   "id": "71e9eb43-eab8-4c0d-a8ee-42388d08a269",
   "metadata": {},
   "outputs": [
    {
     "name": "stdout",
     "output_type": "stream",
     "text": [
      "institute name: saylani mass it training\n",
      "full name:waleed anis\n",
      "requirements: \n",
      "student should have the basic knowledge programming langauages \n",
      "and must have the laptop and last qualification just be inter pass \n",
      "age: 22\n",
      "\n"
     ]
    }
   ],
   "source": [
    "print(Id_card.casefold())\n"
   ]
  },
  {
   "cell_type": "code",
   "execution_count": 37,
   "id": "10d36ada-22c3-43e7-8ff7-42f0d7713b54",
   "metadata": {},
   "outputs": [
    {
     "data": {
      "text/plain": [
       "24"
      ]
     },
     "execution_count": 37,
     "metadata": {},
     "output_type": "execute_result"
    }
   ],
   "source": [
    "len(institute_name)"
   ]
  },
  {
   "cell_type": "code",
   "execution_count": 42,
   "id": "daae3dfe-9d47-44b8-8264-cdc0be2d556d",
   "metadata": {},
   "outputs": [
    {
     "name": "stdout",
     "output_type": "stream",
     "text": [
      "      Saylani Mass IT Training      \n"
     ]
    }
   ],
   "source": [
    "print(institute_name.center(36 , ' '))"
   ]
  },
  {
   "cell_type": "code",
   "execution_count": 48,
   "id": "e0a27154-72e6-4d96-82f6-9c27ed18bf1b",
   "metadata": {},
   "outputs": [
    {
     "name": "stdout",
     "output_type": "stream",
     "text": [
      "3\n",
      "0\n"
     ]
    }
   ],
   "source": [
    "print(Id_card.count(\"am\"))\n",
    "print(Id_card.count(\"waleed\"))"
   ]
  },
  {
   "cell_type": "code",
   "execution_count": 56,
   "id": "240f1735-0af9-4aae-ab45-cefc5b5ce134",
   "metadata": {},
   "outputs": [
    {
     "data": {
      "text/plain": [
       "b'Institute Name: Saylani Mass IT Training\\nFull Name:Waleed Anis\\nRequirements: \\nStudent should have the basic knowledge programming langauages \\nand must have the laptop and last qualification just be inter pass \\nAge: 22\\n'"
      ]
     },
     "execution_count": 56,
     "metadata": {},
     "output_type": "execute_result"
    }
   ],
   "source": [
    "Id_card.encode(encoding = \"ascii\")"
   ]
  },
  {
   "cell_type": "code",
   "execution_count": 60,
   "id": "3638c952-6c9c-4101-aaea-a7a328d11e5c",
   "metadata": {},
   "outputs": [
    {
     "data": {
      "text/plain": [
       "False"
      ]
     },
     "execution_count": 60,
     "metadata": {},
     "output_type": "execute_result"
    }
   ],
   "source": [
    "Id_card.endswith(\"BYE\")"
   ]
  },
  {
   "cell_type": "code",
   "execution_count": 76,
   "id": "d02a300b-c0eb-47b3-b83a-b4ee42e7b3a3",
   "metadata": {},
   "outputs": [
    {
     "name": "stdout",
     "output_type": "stream",
     "text": [
      "welcome         to      syalani\n"
     ]
    }
   ],
   "source": [
    "name = \"welcome\\t\\tto\\tsyalani\"\n",
    "print(name.expandtabs())"
   ]
  },
  {
   "cell_type": "code",
   "execution_count": 79,
   "id": "9159d684-0a9b-4d5c-b5c0-0a5ab762afab",
   "metadata": {},
   "outputs": [
    {
     "data": {
      "text/plain": [
       "-1"
      ]
     },
     "execution_count": 79,
     "metadata": {},
     "output_type": "execute_result"
    }
   ],
   "source": [
    "Id_card.find(\"bye\")"
   ]
  },
  {
   "cell_type": "code",
   "execution_count": 82,
   "id": "a387842e-f82d-42ec-baec-45c9b40019ff",
   "metadata": {},
   "outputs": [
    {
     "data": {
      "text/plain": [
       "'Institute Name: Saylani Mass IT Training\\nFull Name:Waleed Anis\\nRequirements: \\nStudent should have the basic knowledge programming langauages \\nand must have the laptop and last qualification just be inter pass \\nAge: 22\\n'"
      ]
     },
     "execution_count": 82,
     "metadata": {},
     "output_type": "execute_result"
    }
   ],
   "source": [
    "Id_card.format(\"Age\")"
   ]
  },
  {
   "cell_type": "code",
   "execution_count": 88,
   "id": "8865d71c-ea5c-4618-a7ba-51e82eedb273",
   "metadata": {},
   "outputs": [
    {
     "name": "stdout",
     "output_type": "stream",
     "text": [
      "my name is waleed and my age is 22\n"
     ]
    }
   ],
   "source": [
    "name = \"waleed\" \n",
    "age = 22 \n",
    "full = 'my name is {} and my age is {}'\n",
    "print(full.format(name ,age ))"
   ]
  },
  {
   "cell_type": "code",
   "execution_count": 50,
   "id": "0ff223d0-500d-41fa-a44c-ebe7e3cef620",
   "metadata": {},
   "outputs": [
    {
     "data": {
      "text/plain": [
       "76"
      ]
     },
     "execution_count": 50,
     "metadata": {},
     "output_type": "execute_result"
    }
   ],
   "source": [
    "\n",
    "Id_card = \"\"\"\n",
    "Institute Name:Saylani Mass IT Training\n",
    "First Name:Waleed \n",
    "Last Name:Anis \n",
    "Requirements:Student must have basic knowledge about programming\n",
    "and must have the laptop and last qualification must be inter pass\n",
    "Age:22 \n",
    "\"\"\"\n",
    "\n",
    "Id_card.index(\"Requirements\")"
   ]
  },
  {
   "cell_type": "code",
   "execution_count": 67,
   "id": "7664d76a-d6d6-46f2-a75d-ced1bbf323f3",
   "metadata": {},
   "outputs": [
    {
     "data": {
      "text/plain": [
       "False"
      ]
     },
     "execution_count": 67,
     "metadata": {},
     "output_type": "execute_result"
    }
   ],
   "source": [
    "Id_card = \"\"\"Institute Name:Saylani Mass IT Training\n",
    "First Name:Waleed \n",
    "Last Name:Anis\n",
    "Requirements:Student must have basic knowledge about programming\n",
    "and must have the laptop and last qualification must be inter pass\n",
    "Age:22 \n",
    "\"\"\" \n",
    "\n",
    "Id_card.isalnum()"
   ]
  },
  {
   "cell_type": "code",
   "execution_count": 14,
   "id": "0f81e3c4-e17b-4c82-be90-6597cb03a2de",
   "metadata": {},
   "outputs": [
    {
     "data": {
      "text/plain": [
       "False"
      ]
     },
     "execution_count": 14,
     "metadata": {},
     "output_type": "execute_result"
    }
   ],
   "source": [
    "Id_card.isalpha()"
   ]
  },
  {
   "cell_type": "code",
   "execution_count": 16,
   "id": "004a2ea2-aa2c-48f4-a975-ce2bd52b8376",
   "metadata": {},
   "outputs": [
    {
     "data": {
      "text/plain": [
       "True"
      ]
     },
     "execution_count": 16,
     "metadata": {},
     "output_type": "execute_result"
    }
   ],
   "source": [
    "Id_card.isascii()"
   ]
  },
  {
   "cell_type": "code",
   "execution_count": 17,
   "id": "75138d76-4dab-487b-80c9-b58db847258a",
   "metadata": {},
   "outputs": [
    {
     "data": {
      "text/plain": [
       "False"
      ]
     },
     "execution_count": 17,
     "metadata": {},
     "output_type": "execute_result"
    }
   ],
   "source": [
    "Id_card.isdecimal()"
   ]
  },
  {
   "cell_type": "code",
   "execution_count": 20,
   "id": "e1df288c-172d-483c-b42f-bf10b3670980",
   "metadata": {},
   "outputs": [
    {
     "data": {
      "text/plain": [
       "False"
      ]
     },
     "execution_count": 20,
     "metadata": {},
     "output_type": "execute_result"
    }
   ],
   "source": [
    "Id_card.isidentifier()"
   ]
  },
  {
   "cell_type": "code",
   "execution_count": 21,
   "id": "186e69b0-54e3-4f0b-864c-7a4e6553882d",
   "metadata": {},
   "outputs": [
    {
     "data": {
      "text/plain": [
       "False"
      ]
     },
     "execution_count": 21,
     "metadata": {},
     "output_type": "execute_result"
    }
   ],
   "source": [
    "Id_card.islower()"
   ]
  },
  {
   "cell_type": "code",
   "execution_count": 24,
   "id": "0d861ab5-01de-484e-809c-8da8c5b0557d",
   "metadata": {},
   "outputs": [
    {
     "data": {
      "text/plain": [
       "False"
      ]
     },
     "execution_count": 24,
     "metadata": {},
     "output_type": "execute_result"
    }
   ],
   "source": [
    "Id_card.isnumeric()"
   ]
  },
  {
   "cell_type": "code",
   "execution_count": 28,
   "id": "9461655f-1455-4c1b-b0c1-43dc8fa2d59a",
   "metadata": {},
   "outputs": [
    {
     "data": {
      "text/plain": [
       "False"
      ]
     },
     "execution_count": 28,
     "metadata": {},
     "output_type": "execute_result"
    }
   ],
   "source": [
    "Id_card.isprintable()"
   ]
  },
  {
   "cell_type": "code",
   "execution_count": 29,
   "id": "6f773a7e-b492-4a1f-b48c-c4be9026b787",
   "metadata": {},
   "outputs": [
    {
     "data": {
      "text/plain": [
       "False"
      ]
     },
     "execution_count": 29,
     "metadata": {},
     "output_type": "execute_result"
    }
   ],
   "source": [
    "Id_card.isspace()"
   ]
  },
  {
   "cell_type": "code",
   "execution_count": 30,
   "id": "92c1b413-2fdc-4d16-a70a-dd2ee027aec0",
   "metadata": {},
   "outputs": [
    {
     "data": {
      "text/plain": [
       "False"
      ]
     },
     "execution_count": 30,
     "metadata": {},
     "output_type": "execute_result"
    }
   ],
   "source": [
    "Id_card.istitle()"
   ]
  },
  {
   "cell_type": "code",
   "execution_count": 31,
   "id": "63d822a0-0227-46d1-bc7e-7706042d85c7",
   "metadata": {},
   "outputs": [
    {
     "data": {
      "text/plain": [
       "False"
      ]
     },
     "execution_count": 31,
     "metadata": {},
     "output_type": "execute_result"
    }
   ],
   "source": [
    "Id_card.isupper()"
   ]
  },
  {
   "cell_type": "code",
   "execution_count": 60,
   "id": "ad86e5d4-adfc-46e8-946e-4450c1ef23df",
   "metadata": {},
   "outputs": [
    {
     "data": {
      "text/plain": [
       "'\\n I n s t i t u t e   N a m e : S a y l a n i   M a s s   I T   T r a i n i n g \\n F i r s t   N a m e : W a l e e d   \\n L a s t   N a m e : A n i s \\n R e q u i r e m e n t s : S t u d e n t   m u s t   h a v e   b a s i c   k n o w l e d g e   a b o u t   p r o g r a m m i n g \\n a n d   m u s t   h a v e   t h e   l a p t o p   a n d   l a s t   q u a l i f i c a t i o n   m u s t   b e   i n t e r   p a s s \\n A g e : 2 2   \\n'"
      ]
     },
     "execution_count": 60,
     "metadata": {},
     "output_type": "execute_result"
    }
   ],
   "source": [
    "\" \".join(Id_card)\n"
   ]
  },
  {
   "cell_type": "code",
   "execution_count": 1,
   "id": "76d2684f-924b-4388-8ef5-754f70f38233",
   "metadata": {},
   "outputs": [
    {
     "data": {
      "text/plain": [
       "'waleed khanMMMMMMMMM'"
      ]
     },
     "execution_count": 1,
     "metadata": {},
     "output_type": "execute_result"
    }
   ],
   "source": [
    "name = \"waleed khan\"\n",
    "name.ljust(20 , \"M\")\n"
   ]
  },
  {
   "cell_type": "code",
   "execution_count": 4,
   "id": "1d4f14d7-28e9-44f0-b1f5-cc7871079744",
   "metadata": {},
   "outputs": [
    {
     "data": {
      "text/plain": [
       "'institute name:saylani mass it training\\nfirst name:waleed \\nlast name:anis\\nrequirements:student must have basic knowledge about programming\\nand must have the laptop and last qualification must be inter pass\\nage:22 \\n'"
      ]
     },
     "execution_count": 4,
     "metadata": {},
     "output_type": "execute_result"
    }
   ],
   "source": [
    "Id_card = \"\"\"Institute Name:Saylani Mass IT Training\n",
    "First Name:Waleed \n",
    "Last Name:Anis\n",
    "Requirements:Student must have basic knowledge about programming\n",
    "and must have the laptop and last qualification must be inter pass\n",
    "Age:22 \n",
    "\"\"\" \n",
    "Id_card.lower()\n",
    " "
   ]
  },
  {
   "cell_type": "code",
   "execution_count": 5,
   "id": "68603372-5cda-4739-8cf9-3ef1fdc20211",
   "metadata": {},
   "outputs": [
    {
     "data": {
      "text/plain": [
       "'waleed khan'"
      ]
     },
     "execution_count": 5,
     "metadata": {},
     "output_type": "execute_result"
    }
   ],
   "source": [
    "name.lstrip()\n",
    " \n"
   ]
  },
  {
   "cell_type": "code",
   "execution_count": 6,
   "id": "45cd194d-16aa-4aff-9766-420d27b3a9e7",
   "metadata": {},
   "outputs": [
    {
     "data": {
      "text/plain": [
       "{87: 119}"
      ]
     },
     "execution_count": 6,
     "metadata": {},
     "output_type": "execute_result"
    }
   ],
   "source": [
    "name.maketrans(\"W\",\"w\")"
   ]
  },
  {
   "cell_type": "code",
   "execution_count": 7,
   "id": "4cc87b6b-522f-4122-854d-9110a008d862",
   "metadata": {},
   "outputs": [
    {
     "data": {
      "text/plain": [
       "('waleed khan', '', '')"
      ]
     },
     "execution_count": 7,
     "metadata": {},
     "output_type": "execute_result"
    }
   ],
   "source": [
    "name.partition(\"Waleed\")\n",
    " "
   ]
  },
  {
   "cell_type": "code",
   "execution_count": 8,
   "id": "bf612de5-5ec5-4228-a8e8-0c3c16a57fc2",
   "metadata": {},
   "outputs": [
    {
     "data": {
      "text/plain": [
       "'eed khan'"
      ]
     },
     "execution_count": 8,
     "metadata": {},
     "output_type": "execute_result"
    }
   ],
   "source": [
    "name.removeprefix(\"wal\")"
   ]
  },
  {
   "cell_type": "code",
   "execution_count": 9,
   "id": "eeccd561-beed-43aa-8e51-6fd1bf4e7dbd",
   "metadata": {},
   "outputs": [
    {
     "data": {
      "text/plain": [
       "'waleed '"
      ]
     },
     "execution_count": 9,
     "metadata": {},
     "output_type": "execute_result"
    }
   ],
   "source": [
    "name. removesuffix(\"khan\")\n"
   ]
  },
  {
   "cell_type": "code",
   "execution_count": 10,
   "id": "7aedc0e5-1be6-4f1d-927d-4e9363549db2",
   "metadata": {},
   "outputs": [
    {
     "data": {
      "text/plain": [
       "'WALEED KHAN'"
      ]
     },
     "execution_count": 10,
     "metadata": {},
     "output_type": "execute_result"
    }
   ],
   "source": [
    "name.replace(\"waleed khan\",\"WALEED KHAN\")"
   ]
  },
  {
   "cell_type": "code",
   "execution_count": 19,
   "id": "4e63d12a-5041-4886-b5ca-4f2a51743bce",
   "metadata": {},
   "outputs": [
    {
     "data": {
      "text/plain": [
       "7"
      ]
     },
     "execution_count": 19,
     "metadata": {},
     "output_type": "execute_result"
    }
   ],
   "source": [
    "name.rfind(\"khan\")\n"
   ]
  },
  {
   "cell_type": "code",
   "execution_count": 21,
   "id": "e66ee36a-fc26-41c4-9a01-7ae114eabff5",
   "metadata": {},
   "outputs": [
    {
     "data": {
      "text/plain": [
       "51"
      ]
     },
     "execution_count": 21,
     "metadata": {},
     "output_type": "execute_result"
    }
   ],
   "source": [
    "Id_card.rindex(\"Waleed\")"
   ]
  },
  {
   "cell_type": "code",
   "execution_count": 37,
   "id": "fbb45e74-9050-40ca-9003-269ebe2994ad",
   "metadata": {},
   "outputs": [
    {
     "data": {
      "text/plain": [
       "'                                                        waleed khan'"
      ]
     },
     "execution_count": 37,
     "metadata": {},
     "output_type": "execute_result"
    }
   ],
   "source": [
    "name.rjust(67)\n"
   ]
  },
  {
   "cell_type": "code",
   "execution_count": 46,
   "id": "7391a5ff-a849-444d-9218-168d5915518b",
   "metadata": {},
   "outputs": [
    {
     "data": {
      "text/plain": [
       "('Institute Name:Saylani Mass IT Training\\nFirst Name:Waleed \\nLast Name:Anis\\n',\n",
       " 'Requirements',\n",
       " ':Student must have basic knowledge about programming\\nand must have the laptop and last qualification must be inter pass\\nAge:22 \\n')"
      ]
     },
     "execution_count": 46,
     "metadata": {},
     "output_type": "execute_result"
    }
   ],
   "source": [
    "Id_card.rpartition(\"Requirements\")\n"
   ]
  },
  {
   "cell_type": "code",
   "execution_count": 47,
   "id": "a97351b0-6263-4a6a-84aa-d3b08ab4d658",
   "metadata": {},
   "outputs": [
    {
     "data": {
      "text/plain": [
       "['Institute',\n",
       " 'Name:Saylani',\n",
       " 'Mass',\n",
       " 'IT',\n",
       " 'Training',\n",
       " 'First',\n",
       " 'Name:Waleed',\n",
       " 'Last',\n",
       " 'Name:Anis',\n",
       " 'Requirements:Student',\n",
       " 'must',\n",
       " 'have',\n",
       " 'basic',\n",
       " 'knowledge',\n",
       " 'about',\n",
       " 'programming',\n",
       " 'and',\n",
       " 'must',\n",
       " 'have',\n",
       " 'the',\n",
       " 'laptop',\n",
       " 'and',\n",
       " 'last',\n",
       " 'qualification',\n",
       " 'must',\n",
       " 'be',\n",
       " 'inter',\n",
       " 'pass',\n",
       " 'Age:22']"
      ]
     },
     "execution_count": 47,
     "metadata": {},
     "output_type": "execute_result"
    }
   ],
   "source": [
    "Id_card.rsplit()\n",
    "\n"
   ]
  },
  {
   "cell_type": "code",
   "execution_count": 54,
   "id": "96d41d84-fd65-4d2d-8252-f41e615ea2fc",
   "metadata": {},
   "outputs": [
    {
     "data": {
      "text/plain": [
       "'Waleed...'"
      ]
     },
     "execution_count": 54,
     "metadata": {},
     "output_type": "execute_result"
    }
   ],
   "source": [
    "Name = \"Waleed...<<<ase\"\n",
    "Name.rstrip(\"<<ase\")\n"
   ]
  },
  {
   "cell_type": "code",
   "execution_count": 56,
   "id": "0ca07a67-3aa2-4afb-8658-0efcae744bc5",
   "metadata": {},
   "outputs": [
    {
     "data": {
      "text/plain": [
       "['Institute',\n",
       " 'Name:Saylani',\n",
       " 'Mass',\n",
       " 'IT',\n",
       " 'Training',\n",
       " 'First',\n",
       " 'Name:Waleed',\n",
       " 'Last',\n",
       " 'Name:Anis',\n",
       " 'Requirements:Student',\n",
       " 'must',\n",
       " 'have',\n",
       " 'basic',\n",
       " 'knowledge',\n",
       " 'about',\n",
       " 'programming',\n",
       " 'and',\n",
       " 'must',\n",
       " 'have',\n",
       " 'the',\n",
       " 'laptop',\n",
       " 'and',\n",
       " 'last',\n",
       " 'qualification',\n",
       " 'must',\n",
       " 'be',\n",
       " 'inter',\n",
       " 'pass',\n",
       " 'Age:22']"
      ]
     },
     "execution_count": 56,
     "metadata": {},
     "output_type": "execute_result"
    }
   ],
   "source": [
    "Id_card.split()\n"
   ]
  },
  {
   "cell_type": "code",
   "execution_count": 57,
   "id": "3af4be86-a573-42d1-9310-7ccb71f62e89",
   "metadata": {},
   "outputs": [
    {
     "data": {
      "text/plain": [
       "['Institute Name:Saylani Mass IT Training',\n",
       " 'First Name:Waleed ',\n",
       " 'Last Name:Anis',\n",
       " 'Requirements:Student must have basic knowledge about programming',\n",
       " 'and must have the laptop and last qualification must be inter pass',\n",
       " 'Age:22 ']"
      ]
     },
     "execution_count": 57,
     "metadata": {},
     "output_type": "execute_result"
    }
   ],
   "source": [
    "Id_card.splitlines()\n"
   ]
  },
  {
   "cell_type": "code",
   "execution_count": 59,
   "id": "1ba169be-a892-4f4e-9bc0-23925141f9a1",
   "metadata": {},
   "outputs": [
    {
     "data": {
      "text/plain": [
       "True"
      ]
     },
     "execution_count": 59,
     "metadata": {},
     "output_type": "execute_result"
    }
   ],
   "source": [
    "Id_card.startswith(\"Institute Name\")\n"
   ]
  },
  {
   "cell_type": "code",
   "execution_count": 62,
   "id": "617643df-7079-427e-b5b9-1c41a4ee64a2",
   "metadata": {},
   "outputs": [
    {
     "data": {
      "text/plain": [
       "'Institute Name:Saylani Mass IT Training\\nFirst Name:Waleed \\nLast Name:Anis\\nRequirements:Student must have basic knowledge about programming\\nand must have the laptop and last qualification must be inter pass\\nAge:22'"
      ]
     },
     "execution_count": 62,
     "metadata": {},
     "output_type": "execute_result"
    }
   ],
   "source": [
    "Id_card.strip()\n"
   ]
  },
  {
   "cell_type": "code",
   "execution_count": 63,
   "id": "02e04a27-258c-485b-a065-9b7774e8d951",
   "metadata": {},
   "outputs": [
    {
     "data": {
      "text/plain": [
       "'iNSTITUTE nAME:sAYLANI mASS it tRAINING\\nfIRST nAME:wALEED \\nlAST nAME:aNIS\\nrEQUIREMENTS:sTUDENT MUST HAVE BASIC KNOWLEDGE ABOUT PROGRAMMING\\nAND MUST HAVE THE LAPTOP AND LAST QUALIFICATION MUST BE INTER PASS\\naGE:22 \\n'"
      ]
     },
     "execution_count": 63,
     "metadata": {},
     "output_type": "execute_result"
    }
   ],
   "source": [
    "Id_card.swapcase()\n"
   ]
  },
  {
   "cell_type": "code",
   "execution_count": 67,
   "id": "ebca4778-f990-483b-ad66-eae085716057",
   "metadata": {},
   "outputs": [
    {
     "data": {
      "text/plain": [
       "'Institute Name:Saylani Mass It Training\\nFirst Name:Waleed \\nLast Name:Anis\\nRequirements:Student Must Have Basic Knowledge About Programming\\nAnd Must Have The Laptop And Last Qualification Must Be Inter Pass\\nAge:22 \\n'"
      ]
     },
     "execution_count": 67,
     "metadata": {},
     "output_type": "execute_result"
    }
   ],
   "source": [
    "Id_card.title()\n"
   ]
  },
  {
   "cell_type": "code",
   "execution_count": 76,
   "id": "75715595-d630-44fa-a973-aa5a7026b561",
   "metadata": {},
   "outputs": [
    {
     "data": {
      "text/plain": [
       "'Institute Name:Saylani Mass IT TrainingnFirst Name:Waleed nLast Name:AnisnRequirements:Student must have basic knowledge about programmingnand must have the laptop and last qualification must be inter passnAge:22 n'"
      ]
     },
     "execution_count": 76,
     "metadata": {},
     "output_type": "execute_result"
    }
   ],
   "source": [
    "Id_card.translate(\"institute_name\")\n"
   ]
  },
  {
   "cell_type": "code",
   "execution_count": 77,
   "id": "f28e09ef-0093-4494-b58c-fe156d87667d",
   "metadata": {},
   "outputs": [
    {
     "data": {
      "text/plain": [
       "'INSTITUTE NAME:SAYLANI MASS IT TRAINING\\nFIRST NAME:WALEED \\nLAST NAME:ANIS\\nREQUIREMENTS:STUDENT MUST HAVE BASIC KNOWLEDGE ABOUT PROGRAMMING\\nAND MUST HAVE THE LAPTOP AND LAST QUALIFICATION MUST BE INTER PASS\\nAGE:22 \\n'"
      ]
     },
     "execution_count": 77,
     "metadata": {},
     "output_type": "execute_result"
    }
   ],
   "source": [
    "Id_card.upper()\n"
   ]
  },
  {
   "cell_type": "code",
   "execution_count": 81,
   "id": "b750db4e-5f36-4d29-ad77-31caf2b4ea7c",
   "metadata": {},
   "outputs": [
    {
     "data": {
      "text/plain": [
       "'000000000waleed khan'"
      ]
     },
     "execution_count": 81,
     "metadata": {},
     "output_type": "execute_result"
    }
   ],
   "source": [
    "name.zfill(20)"
   ]
  }
 ],
 "metadata": {
  "kernelspec": {
   "display_name": "Python 3 (ipykernel)",
   "language": "python",
   "name": "python3"
  },
  "language_info": {
   "codemirror_mode": {
    "name": "ipython",
    "version": 3
   },
   "file_extension": ".py",
   "mimetype": "text/x-python",
   "name": "python",
   "nbconvert_exporter": "python",
   "pygments_lexer": "ipython3",
   "version": "3.9.13"
  }
 },
 "nbformat": 4,
 "nbformat_minor": 5
}
