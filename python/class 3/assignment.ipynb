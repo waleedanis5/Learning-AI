{
 "cells": [
  {
   "cell_type": "markdown",
   "id": "4605d69e-62a9-42db-8684-b4b6c8131f45",
   "metadata": {},
   "source": [
    "# Concatination with plus "
   ]
  },
  {
   "cell_type": "code",
   "execution_count": 1,
   "id": "ba9d0a58-4eef-4186-bcc3-09dc96584d80",
   "metadata": {},
   "outputs": [
    {
     "name": "stdout",
     "output_type": "stream",
     "text": [
      "Institute Name: Saylani Mass IT Training\n",
      "Full Name:Waleed Anis\n",
      "Requirements: \n",
      "Student should have the basic knowledge about computers\n",
      "and programming langauages and must have the laptop  \n",
      "Age:22\n"
     ]
    }
   ],
   "source": [
    "institute_name = \"Saylani Mass IT Training\"\n",
    "first_name = \"Waleed\"\n",
    "last_name = \"Anis\"\n",
    "requirements = \"\"\" \n",
    "Student should have the basic knowledge about computers\n",
    "and programming langauages and must have the laptop  \"\"\"\n",
    "Age = 22\n",
    "\n",
    "form = \"Institute Name: \" + institute_name + \"\\nFull Name:\" + first_name +\" \"+last_name + \"\\nRequirements:\" + requirements + \"\\nAge:\" + str(Age)  \n",
    "\n",
    "print(form)"
   ]
  },
  {
   "cell_type": "code",
   "execution_count": 7,
   "id": "5954e619-83b6-4b7c-b230-249d6dcfd4fa",
   "metadata": {},
   "outputs": [
    {
     "name": "stdout",
     "output_type": "stream",
     "text": [
      "Institute Name: Saylani Mass IT Training\n",
      "Full Name: Waleed Anis\n",
      "Requirements:  \n",
      "Student should have the basic knowledge programming langauages \n",
      "and must have the laptop and last qualification just b inter pass \n",
      "Age: 22\n"
     ]
    }
   ],
   "source": [
    "institute_name = \"Saylani Mass IT Training\"\n",
    "first_name = \"Waleed\"\n",
    "last_name = \"Anis\"\n",
    "requirements = \"\"\" \n",
    "Student should have the basic knowledge programming langauages \n",
    "and must have the laptop and last qualification just be inter pass \"\"\"\n",
    "Age = str(22)\n",
    "\n",
    "form = \"Institute Name: \" + institute_name+\"\\nFull Name: \" + first_name +\" \" + last_name + \"\\nRequirements: \" + requirements + \"\\nAge: \" + Age  \n",
    "print(form)"
   ]
  },
  {
   "cell_type": "markdown",
   "id": "2db4b5d4-11ec-4a77-9666-8980b787aceb",
   "metadata": {},
   "source": [
    "# with variable_name.format(var1,var2,var3)"
   ]
  },
  {
   "cell_type": "code",
   "execution_count": 4,
   "id": "a109fdba-31a3-4b06-92ec-3828ceaa09cf",
   "metadata": {},
   "outputs": [
    {
     "name": "stdout",
     "output_type": "stream",
     "text": [
      "\n",
      "Institute Name:Saylani Mass IT Training\n",
      "First Name:Waleed \n",
      "Last Name:Anis \n",
      "Requirements:Student must have basic knowledge about programming\n",
      "and must have the laptop and last qualification must be inter pass\n",
      "Age:22 \n",
      "\n"
     ]
    }
   ],
   "source": [
    "institute_name = \"Saylani Mass IT Training\"\n",
    "first_name = \"Waleed\"\n",
    "last_name = \"Anis\"\n",
    "requirements = \"\"\" \n",
    "Student should have the basic knowledge programming langauages \n",
    "and must have the laptop and last qualification just be inter pass \"\"\"\n",
    "Age = str(22)\n",
    "\n",
    "Id_card = \"\"\"\n",
    "Institute Name:Saylani Mass IT Training\n",
    "First Name:Waleed \n",
    "Last Name:Anis \n",
    "Requirements:Student must have basic knowledge about programming\n",
    "and must have the laptop and last qualification must be inter pass\n",
    "Age:22 \n",
    "\"\"\".format(institute_name,first_name,last_name,requirements,Age)\n",
    "\n",
    "print(Id_card)"
   ]
  },
  {
   "cell_type": "code",
   "execution_count": 6,
   "id": "557ffee9-2b06-41e2-bff0-bd6e8c7971e4",
   "metadata": {},
   "outputs": [
    {
     "name": "stdout",
     "output_type": "stream",
     "text": [
      "\n",
      "Institute Name:Saylani Mass IT Training\n",
      "First Name:Waleed\n",
      "Last Name:Anis\n",
      "Requirements: \n",
      "Student should have the basic knowledge programming langauages \n",
      "and must have the laptop and last qualification just be inter pass \n",
      "Age:22\n",
      "\n"
     ]
    }
   ],
   "source": [
    "institute_name = \"Saylani Mass IT Training\"\n",
    "first_name = \"Waleed\"\n",
    "last_name = \"Anis\"\n",
    "requirements = \"\"\" \n",
    "Student should have the basic knowledge programming langauages \n",
    "and must have the laptop and last qualification just be inter pass \"\"\"\n",
    "Age = str(22)\n",
    "\n",
    "Id_card = \"\"\"\n",
    "Institute Name:{}\n",
    "First Name:{}\n",
    "Last Name:{}\n",
    "Requirements:{}\n",
    "Age:{}\n",
    "\"\"\".format(institute_name,first_name,last_name,requirements,Age)\n",
    "\n",
    "print(Id_card)"
   ]
  },
  {
   "cell_type": "code",
   "execution_count": 13,
   "id": "64cd65f9-2ca9-4586-81d0-22b8c7e61cb1",
   "metadata": {},
   "outputs": [
    {
     "name": "stdout",
     "output_type": "stream",
     "text": [
      "\n",
      "Institute Name:Saylani Mass IT Training\n",
      "Full Name:Waleed Anis\n",
      "Requirements: \n",
      "Student should have the basic knowledge programming langauages \n",
      "and must have the laptop and last qualification just be inter pass \n",
      "Age:22\n",
      "\n",
      "\n"
     ]
    }
   ],
   "source": [
    "institute_name = \"Saylani Mass IT Training\"\n",
    "first_name = \"Waleed\"\n",
    "last_name = \"Anis\"\n",
    "requirements = \"\"\" \n",
    "Student should have the basic knowledge programming langauages \n",
    "and must have the laptop and last qualification just be inter pass \"\"\"\n",
    "Age = str(22)\n",
    "\n",
    "Id_card = \"\"\"\n",
    "Institute Name:{0}\n",
    "Full Name:{1} {2}\n",
    "Requirements:{3}\n",
    "Age:{4}\n",
    "\n",
    "\"\"\".format(institute_name,first_name,last_name,requirements,Age)\n",
    "\n",
    "print(Id_card)"
   ]
  },
  {
   "cell_type": "code",
   "execution_count": 18,
   "id": "30c585eb-5111-4e97-a96d-e1a0d976ec48",
   "metadata": {
    "tags": []
   },
   "outputs": [
    {
     "ename": "TypeError",
     "evalue": "%d format: a number is required, not str",
     "output_type": "error",
     "traceback": [
      "\u001b[1;31m---------------------------------------------------------------------------\u001b[0m",
      "\u001b[1;31mTypeError\u001b[0m                                 Traceback (most recent call last)",
      "\u001b[1;32m~\\AppData\\Local\\Temp\\ipykernel_12448\\26532151.py\u001b[0m in \u001b[0;36m<module>\u001b[1;34m\u001b[0m\n\u001b[0;32m      7\u001b[0m \u001b[0mAge\u001b[0m \u001b[1;33m=\u001b[0m \u001b[0mstr\u001b[0m\u001b[1;33m(\u001b[0m\u001b[1;36m22\u001b[0m\u001b[1;33m)\u001b[0m\u001b[1;33m\u001b[0m\u001b[1;33m\u001b[0m\u001b[0m\n\u001b[0;32m      8\u001b[0m \u001b[1;33m\u001b[0m\u001b[0m\n\u001b[1;32m----> 9\u001b[1;33m Id_card = \"\"\"Institute Name: %s\n\u001b[0m\u001b[0;32m     10\u001b[0m \u001b[0mFull\u001b[0m \u001b[0mName\u001b[0m\u001b[1;33m:\u001b[0m\u001b[1;33m%\u001b[0m\u001b[0ms\u001b[0m \u001b[1;33m%\u001b[0m\u001b[0ms\u001b[0m\u001b[1;33m\u001b[0m\u001b[1;33m\u001b[0m\u001b[0m\n\u001b[0;32m     11\u001b[0m \u001b[0mRequirements\u001b[0m\u001b[1;33m:\u001b[0m\u001b[1;33m%\u001b[0m\u001b[0ms\u001b[0m\u001b[1;33m\u001b[0m\u001b[1;33m\u001b[0m\u001b[0m\n",
      "\u001b[1;31mTypeError\u001b[0m: %d format: a number is required, not str"
     ]
    }
   ],
   "source": [
    "institute_name = \"Saylani Mass IT Training\"\n",
    "first_name = \"Waleed\"\n",
    "last_name = \"Anis\"\n",
    "requirements = \"\"\" \n",
    "Student should have the basic knowledge programming langauages \n",
    "and must have the laptop and last qualification just be inter pass \"\"\"\n",
    "Age = str(22)\n",
    "\n",
    "Id_card = \"\"\"Institute Name: %s\n",
    "Full Name:%s %s\n",
    "Requirements:%s\n",
    "Age: %d\n",
    "\"\"\" %(institute_name,first_name,last_name,requirements,Age)\n",
    "\n",
    "print(Id_card)"
   ]
  },
  {
   "cell_type": "code",
   "execution_count": null,
   "id": "4f167105-8704-417d-8a0c-f2a7e203c63f",
   "metadata": {},
   "outputs": [],
   "source": []
  },
  {
   "cell_type": "code",
   "execution_count": null,
   "id": "18cc969d-69fb-4a3b-894b-80a9d1aa87b6",
   "metadata": {},
   "outputs": [],
   "source": []
  }
 ],
 "metadata": {
  "kernelspec": {
   "display_name": "Python 3 (ipykernel)",
   "language": "python",
   "name": "python3"
  },
  "language_info": {
   "codemirror_mode": {
    "name": "ipython",
    "version": 3
   },
   "file_extension": ".py",
   "mimetype": "text/x-python",
   "name": "python",
   "nbconvert_exporter": "python",
   "pygments_lexer": "ipython3",
   "version": "3.9.13"
  }
 },
 "nbformat": 4,
 "nbformat_minor": 5
}
